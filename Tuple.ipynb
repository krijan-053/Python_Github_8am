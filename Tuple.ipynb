{
 "cells": [
  {
   "cell_type": "code",
   "execution_count": null,
   "id": "d206ebae",
   "metadata": {},
   "outputs": [],
   "source": [
    "# # Tuple\n",
    "# Indexing\n",
    "# Ordered\n",
    "# Multiple and dublicate value\n",
    "# Imutable"
   ]
  },
  {
   "cell_type": "code",
   "execution_count": null,
   "id": "0daeb525",
   "metadata": {},
   "outputs": [],
   "source": [
    "b = tuple()\n",
    "a = (1,2,3)\n",
    "type(a)"
   ]
  },
  {
   "cell_type": "code",
   "execution_count": null,
   "id": "37c87fde",
   "metadata": {},
   "outputs": [],
   "source": [
    "a = (\"Apple\",)\n",
    "type(a)"
   ]
  },
  {
   "cell_type": "code",
   "execution_count": null,
   "id": "0708dd4e",
   "metadata": {},
   "outputs": [],
   "source": [
    "a = (\"Apple\",\"Ball\",\"Cat\",)\n",
    "print(a[0])\n",
    "print(a[0:1])\n",
    "print(a[0:3:2])\n"
   ]
  },
  {
   "cell_type": "code",
   "execution_count": null,
   "id": "12141583",
   "metadata": {},
   "outputs": [],
   "source": [
    "a = ()\n",
    "a = a+(\"Apple\",)\n",
    "a = a+(\"Ball\",)\n",
    "a"
   ]
  },
  {
   "cell_type": "code",
   "execution_count": null,
   "id": "d9efaf67",
   "metadata": {},
   "outputs": [],
   "source": [
    "apple = ()\n",
    "n = int(input(\"Enter n = \"))\n",
    "for i in range(n):\n",
    "    x = input(\"Enter x = \")\n",
    "    apple = apple+(x,)\n",
    "print(apple)"
   ]
  },
  {
   "cell_type": "code",
   "execution_count": null,
   "id": "1d510cea",
   "metadata": {},
   "outputs": [],
   "source": [
    "# We Can use\n",
    "# min()  max() sum()\n",
    "# index()\n",
    "# search()"
   ]
  },
  {
   "cell_type": "code",
   "execution_count": null,
   "id": "d72f4850",
   "metadata": {},
   "outputs": [],
   "source": [
    "a = (\"Apple\",\"Ball\",\"Cat\",)\n",
    "a = list(a)\n",
    "del a[0]\n",
    "a = tuple(a)\n",
    "a"
   ]
  },
  {
   "cell_type": "code",
   "execution_count": 10,
   "id": "e2e654f4",
   "metadata": {},
   "outputs": [
    {
     "name": "stdout",
     "output_type": "stream",
     "text": [
      "['H', 'e', 'l', 'l', 'o', ' ', 'W', 'o', 'r', 'l', 'd']\n",
      "('H', 'e', 'l', 'l', 'o', ' ', 'W', 'o', 'r', 'l', 'd')\n"
     ]
    }
   ],
   "source": [
    "a = \"Hello World\"\n",
    "print(list(a))\n",
    "print(tuple(a))"
   ]
  },
  {
   "cell_type": "code",
   "execution_count": null,
   "id": "a4213a80",
   "metadata": {},
   "outputs": [],
   "source": [
    "a = ['H', 'e', 'l', 'l', 'o', ' ', 'W', 'o', 'r', 'l', 'd']\n",
    "str(a)"
   ]
  },
  {
   "cell_type": "code",
   "execution_count": null,
   "id": "adb18844",
   "metadata": {},
   "outputs": [],
   "source": []
  },
  {
   "cell_type": "code",
   "execution_count": null,
   "id": "9e06faa0",
   "metadata": {},
   "outputs": [],
   "source": []
  },
  {
   "cell_type": "code",
   "execution_count": null,
   "id": "5a698f45",
   "metadata": {},
   "outputs": [],
   "source": []
  },
  {
   "cell_type": "markdown",
   "id": "ccc3b867",
   "metadata": {},
   "source": [
    "\n"
   ]
  },
  {
   "cell_type": "code",
   "execution_count": null,
   "id": "49749994",
   "metadata": {},
   "outputs": [
    {
     "name": "stdout",
     "output_type": "stream",
     "text": [
      "Press 'Enter' to create new bill.\n"
     ]
    }
   ],
   "source": [
    "a = str()\n",
    "x = input(\"Press 'Enter' to create new bill.\")\n",
    "i = 0\n",
    "at = 0\n",
    "while x=='':\n",
    "    npd = int(input(\"Enter No of Items = \"))\n",
    "    while i<npd:\n",
    "        pd = input(\"Enter product name = \")\n",
    "        p = int(input(\"Enter price = \"))\n",
    "        q = int(input(\"Enter quantity = \"))\n",
    "        t = p*q\n",
    "        at = at+t\n",
    "        a = a+f\"{pd   }            {q}        {p}      {t}\\n\"\n",
    "        i = i+1\n",
    "\n",
    "    print(\"\")   \n",
    "    print(\"     Bhaktapur Mart\")\n",
    "    print(\"\")\n",
    "    print(\"Product Name   \"+\"Quantity   \"+\"Price   \"+ \"Total\")\n",
    "    print(a)\n",
    "    print(\"    Your total amount is       Rs.\",at)\n",
    "\n",
    "    if x=='':\n",
    "        break\n",
    "\n",
    "    "
   ]
  },
  {
   "cell_type": "code",
   "execution_count": null,
   "id": "d1550e44",
   "metadata": {},
   "outputs": [],
   "source": []
  },
  {
   "cell_type": "code",
   "execution_count": null,
   "id": "e7d6d36d",
   "metadata": {},
   "outputs": [],
   "source": []
  }
 ],
 "metadata": {
  "kernelspec": {
   "display_name": "Python 3 (ipykernel)",
   "language": "python",
   "name": "python3"
  },
  "language_info": {
   "codemirror_mode": {
    "name": "ipython",
    "version": 3
   },
   "file_extension": ".py",
   "mimetype": "text/x-python",
   "name": "python",
   "nbconvert_exporter": "python",
   "pygments_lexer": "ipython3",
   "version": "3.9.13"
  }
 },
 "nbformat": 4,
 "nbformat_minor": 5
}
