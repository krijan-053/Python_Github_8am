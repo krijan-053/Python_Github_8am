{
 "cells": [
  {
   "cell_type": "code",
   "execution_count": 1,
   "id": "6a90d06c",
   "metadata": {},
   "outputs": [],
   "source": [
    "# class <class name>:\n",
    "#     <operation>\n",
    "    \n",
    "# obj = <class_name>"
   ]
  },
  {
   "cell_type": "code",
   "execution_count": 2,
   "id": "c16f5b61",
   "metadata": {},
   "outputs": [
    {
     "name": "stdout",
     "output_type": "stream",
     "text": [
      "Hello World\n"
     ]
    }
   ],
   "source": [
    "class Hello:                  #class\n",
    "    print(\"Hello World\")\n",
    "obj = Hello()                 # object"
   ]
  },
  {
   "cell_type": "code",
   "execution_count": 6,
   "id": "f3eca0de",
   "metadata": {},
   "outputs": [
    {
     "name": "stdout",
     "output_type": "stream",
     "text": [
      "Hello World\n"
     ]
    }
   ],
   "source": [
    "class Hello:                   #class\n",
    "    def hello(self):           #method\n",
    "        print(\"Hello World\")\n",
    "        \n",
    "        \n",
    "obj = Hello()                 # object\n",
    "obj.hello()"
   ]
  },
  {
   "cell_type": "code",
   "execution_count": 8,
   "id": "8de48192",
   "metadata": {},
   "outputs": [
    {
     "name": "stdout",
     "output_type": "stream",
     "text": [
      "Hello World\n"
     ]
    }
   ],
   "source": [
    "class Hello:                   #class\n",
    "    @staticmethod\n",
    "    def hello():               #method\n",
    "        print(\"Hello World\")\n",
    "        \n",
    "        \n",
    "obj = Hello()                 # object\n",
    "obj.hello()"
   ]
  },
  {
   "cell_type": "code",
   "execution_count": 9,
   "id": "26483f74",
   "metadata": {},
   "outputs": [
    {
     "name": "stdout",
     "output_type": "stream",
     "text": [
      "50\n",
      "66\n"
     ]
    }
   ],
   "source": [
    "class Cal:\n",
    "    @staticmethod\n",
    "    def area():\n",
    "        l= 10\n",
    "        b= 5\n",
    "        a=l*b\n",
    "        print(a)\n",
    "    @staticmethod\n",
    "    def volume():\n",
    "        l= 11\n",
    "        b= 3\n",
    "        h= 2\n",
    "        v = l*b*h\n",
    "        print(v)\n",
    "        \n",
    "        \n",
    "obj = Cal()\n",
    "obj.area()\n",
    "obj.volume()"
   ]
  },
  {
   "cell_type": "code",
   "execution_count": 10,
   "id": "5846dbbd",
   "metadata": {},
   "outputs": [
    {
     "name": "stdout",
     "output_type": "stream",
     "text": [
      "50\n",
      "66\n"
     ]
    }
   ],
   "source": [
    "class Cal:\n",
    "    def area(self):\n",
    "        l= 10\n",
    "        b= 5\n",
    "        a=l*b\n",
    "        print(a)\n",
    "    def volume(self):\n",
    "        l= 11\n",
    "        b= 3\n",
    "        h= 2\n",
    "        v = l*b*h\n",
    "        print(v)\n",
    "        \n",
    "        \n",
    "obj = Cal()\n",
    "obj.area()\n",
    "obj.volume()"
   ]
  },
  {
   "cell_type": "code",
   "execution_count": 12,
   "id": "8d599155",
   "metadata": {},
   "outputs": [
    {
     "name": "stdout",
     "output_type": "stream",
     "text": [
      "33\n",
      "66\n"
     ]
    }
   ],
   "source": [
    "class Cal:\n",
    "    def __init__(self,l,b,h):\n",
    "        self.x = l\n",
    "        self.y = b\n",
    "        self.z = h\n",
    "        \n",
    "    def area(self):\n",
    "        a= self.x*self.y\n",
    "        print(a)\n",
    "    \n",
    "    def volume(self):\n",
    "        v = self.x*self.y*self.z\n",
    "        print(v)\n",
    "        \n",
    "l= 11\n",
    "b= 3\n",
    "h= 2       \n",
    "obj = Cal(l,b,h)\n",
    "obj.area()\n",
    "obj.volume()"
   ]
  },
  {
   "cell_type": "code",
   "execution_count": 13,
   "id": "f34423e2",
   "metadata": {},
   "outputs": [
    {
     "name": "stdout",
     "output_type": "stream",
     "text": [
      "Enter the value of l = 12\n",
      "Enter the value of b = 34\n",
      "Enter the value of h = 56\n",
      "408\n",
      "22848\n",
      "12 34 56\n"
     ]
    }
   ],
   "source": [
    "class Cal:\n",
    "    def __init__(self):\n",
    "        self.x = int(input(\"Enter the value of l = \"))\n",
    "        self.y = int(input(\"Enter the value of b = \"))\n",
    "        self.z = int(input(\"Enter the value of h = \"))\n",
    "        \n",
    "    def area(self):\n",
    "        a= self.x*self.y\n",
    "        print(a)\n",
    "    \n",
    "    def volume(self):\n",
    "        v = self.x*self.y*self.z\n",
    "        print(v)\n",
    "        \n",
    "        \n",
    "obj = Cal()\n",
    "obj.area()\n",
    "obj.volume()\n",
    "print(obj.x,obj.y,obj.z)"
   ]
  },
  {
   "cell_type": "code",
   "execution_count": null,
   "id": "f89aeafe",
   "metadata": {},
   "outputs": [],
   "source": [
    "class Area:\n",
    "    def __init__(self):\n",
    "        self.x = int(input(\"Enter the value of l = \"))\n",
    "        self.y = int(input(\"Enter the value of b = \"))\n",
    "        \n",
    "    def area(self):\n",
    "        a= self.x*self.y\n",
    "        print(a)\n",
    "        \n",
    "class Volume:\n",
    "    def __init__(self):\n",
    "        self.x = int(input(\"Enter the value of l = \"))\n",
    "        self.y = int(input(\"Enter the value of b = \"))\n",
    "        self.z = int(input(\"Enter the value of h = \"))\n",
    "        \n",
    "    def volume(self):\n",
    "        v = self.x*self.y*self.z\n",
    "        print(v)\n",
    "        \n",
    "        \n",
    "obj1 = Area()\n",
    "obj1.area()\n",
    "\n",
    "obj2 = Volume()\n",
    "obj2.volume()\n"
   ]
  },
  {
   "cell_type": "code",
   "execution_count": 4,
   "id": "70af1ebf",
   "metadata": {},
   "outputs": [
    {
     "name": "stdout",
     "output_type": "stream",
     "text": [
      "Ram\n",
      "Ram\n"
     ]
    }
   ],
   "source": [
    "class Info:\n",
    "    def __init__(self,name,age):\n",
    "        self.name = name\n",
    "        self.age = age\n",
    "    \n",
    "    def __str__(self):\n",
    "        return self.name\n",
    "    \n",
    "    \n",
    "obj = Info(\"Ram\",23)\n",
    "print(obj)\n",
    "print(obj.__str__())\n"
   ]
  },
  {
   "cell_type": "code",
   "execution_count": null,
   "id": "311738c4",
   "metadata": {},
   "outputs": [],
   "source": []
  }
 ],
 "metadata": {
  "kernelspec": {
   "display_name": "Python 3 (ipykernel)",
   "language": "python",
   "name": "python3"
  },
  "language_info": {
   "codemirror_mode": {
    "name": "ipython",
    "version": 3
   },
   "file_extension": ".py",
   "mimetype": "text/x-python",
   "name": "python",
   "nbconvert_exporter": "python",
   "pygments_lexer": "ipython3",
   "version": "3.9.13"
  }
 },
 "nbformat": 4,
 "nbformat_minor": 5
}
