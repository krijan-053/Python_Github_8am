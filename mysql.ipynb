{
 "cells": [
  {
   "cell_type": "code",
   "execution_count": 1,
   "id": "48aaf59a",
   "metadata": {},
   "outputs": [
    {
     "name": "stdout",
     "output_type": "stream",
     "text": [
      "Requirement already satisfied: mysql.connector in /Users/apple/opt/anaconda3/lib/python3.9/site-packages (2.2.9)\r\n"
     ]
    }
   ],
   "source": [
    "!pip install mysql.connector"
   ]
  },
  {
   "cell_type": "code",
   "execution_count": 3,
   "id": "1f2c8ba9",
   "metadata": {},
   "outputs": [],
   "source": [
    "import mysql.connector #importing database\n",
    "database=mysql.connector.connect(\n",
    "    host=\"localhost\",\n",
    "    user=\"root\",\n",
    "    password=\"\",\n",
    "    database = \"Class_8am\"\n",
    ")\n",
    "db = database.cursor()\n"
   ]
  },
  {
   "cell_type": "code",
   "execution_count": 6,
   "id": "690027ab",
   "metadata": {},
   "outputs": [
    {
     "name": "stdout",
     "output_type": "stream",
     "text": [
      "(1, 'Ram', 90, 80, 70, 60, 50, 350, 70.0, 'B')\n"
     ]
    }
   ],
   "source": [
    "db.execute(\"SELECT*FROM student\")\n",
    "result = db.fetchall()\n",
    "for x in result:\n",
    "    print(x)"
   ]
  },
  {
   "cell_type": "code",
   "execution_count": 4,
   "id": "47b287d7",
   "metadata": {},
   "outputs": [
    {
     "name": "stdout",
     "output_type": "stream",
     "text": [
      "(1, 'Shyam', 78, 76, 90, 67, 89, 412, 82.5, 'A')\n",
      "(3, 'Sabin', 78, 89, 89, 45, 67, 400, 81.4, 'A')\n"
     ]
    }
   ],
   "source": [
    "db.execute(\"SELECT*FROM student WHERE grade = 'A' and math > 70\")\n",
    "result = db.fetchall()\n",
    "for x in result:\n",
    "    print(x)"
   ]
  },
  {
   "cell_type": "code",
   "execution_count": 5,
   "id": "78a3d578",
   "metadata": {},
   "outputs": [],
   "source": [
    "\n",
    "sql= '''Insert INTO 'student'(Name,Physics,Chemistry,math,english,nepali,total,percentage,Grade)\n",
    "value()'''"
   ]
  },
  {
   "cell_type": "code",
   "execution_count": 7,
   "id": "52929dac",
   "metadata": {},
   "outputs": [
    {
     "name": "stdout",
     "output_type": "stream",
     "text": [
      "Enter Name : shyam\n",
      "Enter physics marks = 11\n",
      "Enter chemistry marks = 22\n",
      "Enter math marks = 33\n",
      "Enter english marks = 44\n",
      "Enter nepali marks = 55\n",
      "INSERT INTO student ( name, physics, chemistry, math, english, nepali, total, per, grade) \n",
      "VALUES ('shyam', 11, 22, 33, 44, 55, 165, 33.0, 'F')\n"
     ]
    }
   ],
   "source": [
    "name = input('Enter Name : ')\n",
    "physics = int(input(\"Enter physics marks = \"))\n",
    "chemistry  = int(input(\"Enter chemistry marks = \"))\n",
    "math = int(input(\"Enter math marks = \"))\n",
    "english = int(input(\"Enter english marks = \"))\n",
    "nepali = int(input(\"Enter nepali marks = \"))\n",
    "\n",
    "total = physics + chemistry + math + english + nepali\n",
    "per = total/5\n",
    "if per > 80 or per==80:\n",
    "  grade = \"A\"\n",
    "elif per >=60:\n",
    "  grade = \"B\"\n",
    "elif per >= 45:\n",
    "  grade = \"C\"\n",
    "else:\n",
    "  grade = \"F\"\n",
    "\n",
    "sql = f'''INSERT INTO student ( name, physics, chemistry, math, english, nepali, total, per, grade) \n",
    "VALUES ('{name}', {physics}, {chemistry}, {math}, {english}, {nepali}, {total}, {per}, '{grade}')'''\n",
    "db.execute(sql)\n",
    "database.commit()\n",
    "print(sql)"
   ]
  },
  {
   "cell_type": "code",
   "execution_count": 5,
   "id": "986fde1b",
   "metadata": {},
   "outputs": [
    {
     "ename": "SyntaxError",
     "evalue": "EOF while scanning triple-quoted string literal (4062761762.py, line 1)",
     "output_type": "error",
     "traceback": [
      "\u001b[0;36m  File \u001b[0;32m\"/var/folders/h0/_1g0rg6n5ts5l3zxz9yjs9bm0000gn/T/ipykernel_554/4062761762.py\"\u001b[0;36m, line \u001b[0;32m1\u001b[0m\n\u001b[0;31m    sql = f'''UPDATE\u001b[0m\n\u001b[0m                    ^\u001b[0m\n\u001b[0;31mSyntaxError\u001b[0m\u001b[0;31m:\u001b[0m EOF while scanning triple-quoted string literal\n"
     ]
    }
   ],
   "source": []
  },
  {
   "cell_type": "code",
   "execution_count": 3,
   "id": "9f6dcc54",
   "metadata": {},
   "outputs": [
    {
     "name": "stdout",
     "output_type": "stream",
     "text": [
      "Collecting mysql.connector\n",
      "  Downloading mysql-connector-2.2.9.tar.gz (11.9 MB)\n",
      "\u001b[2K     \u001b[90m━━━━━━━━━━━━━━━━━━━━━━━━━━━━━━━━━━━━━━━━\u001b[0m \u001b[32m11.9/11.9 MB\u001b[0m \u001b[31m3.7 MB/s\u001b[0m eta \u001b[36m0:00:00\u001b[0m00:01\u001b[0m00:01\u001b[0mm\n",
      "\u001b[?25h  Preparing metadata (setup.py) ... \u001b[?25ldone\n",
      "\u001b[?25hBuilding wheels for collected packages: mysql.connector\n",
      "  Building wheel for mysql.connector (setup.py) ... \u001b[?25ldone\n",
      "\u001b[?25h  Created wheel for mysql.connector: filename=mysql_connector-2.2.9-cp39-cp39-macosx_10_9_x86_64.whl size=247957 sha256=661c28a3bd2e2afc003eacf25f87918fcfe7983ad87c40736ddd2946dcca2a1d\n",
      "  Stored in directory: /Users/apple/Library/Caches/pip/wheels/7b/14/39/5aad423666e827dfe9a1fbcd111ac17171e7c9865d570780ce\n",
      "Successfully built mysql.connector\n",
      "Installing collected packages: mysql.connector\n",
      "Successfully installed mysql.connector-2.2.9\n"
     ]
    }
   ],
   "source": [
    "pip install mysql.connector"
   ]
  },
  {
   "cell_type": "code",
   "execution_count": null,
   "id": "6da53f3a",
   "metadata": {},
   "outputs": [],
   "source": [
    "##########"
   ]
  },
  {
   "cell_type": "code",
   "execution_count": 1,
   "id": "852b3038",
   "metadata": {},
   "outputs": [],
   "source": [
    "import mysql.connector #importing database\n",
    "database=mysql.connector.connect(\n",
    "    host=\"localhost\",\n",
    "    user=\"root\",\n",
    "    password=\"\",\n",
    "    database = \"Class_8am\"\n",
    ")\n",
    "db = database.cursor()\n"
   ]
  },
  {
   "cell_type": "code",
   "execution_count": 2,
   "id": "25cfa18e",
   "metadata": {},
   "outputs": [],
   "source": [
    "def read():\n",
    "    db.execute(\"SELECT * FROM student\")\n",
    "    result = db.fetchall()\n",
    "    print(result)\n",
    "    \n",
    "def insert():\n",
    "    c = int(input(\"Enter c = \"))\n",
    "    for i in range(c):\n",
    "        name = input(\"Enter name = \")\n",
    "        physics = int(input(\"Enter physics marks = \"))\n",
    "        chemistry = int(input(\"Enter chemistry marks = \"))\n",
    "        math = int(input(\"Enter math marks = \"))\n",
    "        english = int(input(\"Enter english marks = \"))\n",
    "        nepali = int(input(\"Enter nepali marks = \"))\n",
    "\n",
    "        total = physics + chemistry + math + english + nepali\n",
    "        per = total/5\n",
    "\n",
    "        if per >= 80:\n",
    "            grade = \"A\"\n",
    "        elif per >=60:\n",
    "            grade = \"B\"\n",
    "        elif per >= 45:\n",
    "            grade = \"C\"\n",
    "        else:\n",
    "            grade = \"F\"\n",
    "\n",
    "        print(\"Your Total = \",total)\n",
    "        print(\"Your Per = \",per)\n",
    "        print(\"Your Grade = \",grade)\n",
    "\n",
    "        sql = f'''INSERT INTO student ( name, physics, chemistry, math, english, nepali, total, per, grade) \n",
    "        VALUES ('{name}', {physics}, {chemistry}, {math}, {english}, {nepali}, {total}, {per}, '{grade}')'''\n",
    "        db.execute(sql)\n",
    "    database.commit()\n",
    "    \n",
    "def update():\n",
    "    value = input(\"Enter value = \")\n",
    "    sn = int(input(\"Enter sn = \"))\n",
    "    field_name = input(\"Enter field like name or grade \")\n",
    "    sql = f'''UPDATE  student SET {field_name} = '{value}' WHERE sn = {sn}'''\n",
    "    db.execute(sql)\n",
    "    database.commit()\n",
    "    \n",
    "def delete():\n",
    "    sn = int(input(\"Enter sn = \"))\n",
    "    sql = f'''DELETE FROM student WHERE sn = {sn}'''\n",
    "    db.execute(sql)\n",
    "    database.commit()"
   ]
  },
  {
   "cell_type": "code",
   "execution_count": 5,
   "id": "c4a0dbda",
   "metadata": {},
   "outputs": [
    {
     "name": "stdout",
     "output_type": "stream",
     "text": [
      "1 for read 2 for insert 3 for update 4 for delete1\n",
      "[(1, 'Ram', 90, 80, 70, 60, 50, 350, 70.0, 'B'), (2, 'shyam', 11, 22, 33, 44, 55, 165, 33.0, 'F'), (3, 'Hari', 10, 29, 38, 47, 56, 180, 36.0, 'F')]\n"
     ]
    }
   ],
   "source": [
    "x = int(input(\"1 for read 2 for insert 3 for update 4 for delete\"))\n",
    "if x == 1:\n",
    "    read()\n",
    "elif x ==2:\n",
    "    insert()\n",
    "elif x == 3:\n",
    "    update()\n",
    "elif x ==4:\n",
    "    delete()\n",
    "else:\n",
    "    print(\"Enter 1 - 4 value only\")"
   ]
  },
  {
   "cell_type": "code",
   "execution_count": null,
   "id": "059c7177",
   "metadata": {},
   "outputs": [],
   "source": []
  }
 ],
 "metadata": {
  "kernelspec": {
   "display_name": "Python 3 (ipykernel)",
   "language": "python",
   "name": "python3"
  },
  "language_info": {
   "codemirror_mode": {
    "name": "ipython",
    "version": 3
   },
   "file_extension": ".py",
   "mimetype": "text/x-python",
   "name": "python",
   "nbconvert_exporter": "python",
   "pygments_lexer": "ipython3",
   "version": "3.9.13"
  }
 },
 "nbformat": 4,
 "nbformat_minor": 5
}
