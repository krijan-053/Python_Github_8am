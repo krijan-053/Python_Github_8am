{
 "cells": [
  {
   "cell_type": "code",
   "execution_count": 1,
   "id": "224ec828",
   "metadata": {},
   "outputs": [],
   "source": [
    "# pre defined\n",
    "# user defined\n"
   ]
  },
  {
   "cell_type": "code",
   "execution_count": 4,
   "id": "93a10366",
   "metadata": {},
   "outputs": [],
   "source": [
    "# pre defined\n",
    "#  int() float() str() print() input()\n",
    "\n",
    "# user defined\n",
    "# def <function_name>():\n",
    "#     <operation>\n",
    "    \n",
    "# <function_name>"
   ]
  },
  {
   "cell_type": "code",
   "execution_count": null,
   "id": "2c631c67",
   "metadata": {},
   "outputs": [],
   "source": []
  },
  {
   "cell_type": "code",
   "execution_count": 3,
   "id": "accd5332",
   "metadata": {},
   "outputs": [
    {
     "name": "stdout",
     "output_type": "stream",
     "text": [
      "Hello World\n"
     ]
    }
   ],
   "source": [
    "def hello():\n",
    "    print(\"Hello World\")\n",
    "hello()"
   ]
  },
  {
   "cell_type": "code",
   "execution_count": 5,
   "id": "552ac781",
   "metadata": {},
   "outputs": [
    {
     "name": "stdout",
     "output_type": "stream",
     "text": [
      "Enter l = 10\n",
      "Enter b = 3\n",
      "30\n"
     ]
    }
   ],
   "source": [
    "def area():\n",
    "    l = int(input(\"Enter l = \"))  #local variable\n",
    "    b = int(input(\"Enter b = \"))  #local veriable\n",
    "    a = l*b\n",
    "    print(a)\n",
    "area()"
   ]
  },
  {
   "cell_type": "code",
   "execution_count": 6,
   "id": "0ffbdd21",
   "metadata": {},
   "outputs": [
    {
     "name": "stdout",
     "output_type": "stream",
     "text": [
      "Enter l = 10\n",
      "Enter b = 3\n",
      "30\n"
     ]
    }
   ],
   "source": [
    "\n",
    "l = int(input(\"Enter l = \"))  #global variable\n",
    "b = int(input(\"Enter b = \"))  #global veriable\n",
    "def area():\n",
    "    a = l*b\n",
    "    print(a)\n",
    "area()"
   ]
  },
  {
   "cell_type": "code",
   "execution_count": 7,
   "id": "4cb2c56b",
   "metadata": {},
   "outputs": [],
   "source": [
    "# function without argument and no return type\n",
    "# function with argument and no return type\n",
    "# function without argument and return type\n",
    "# function with argument and return type"
   ]
  },
  {
   "cell_type": "code",
   "execution_count": 10,
   "id": "5601a9f1",
   "metadata": {},
   "outputs": [
    {
     "name": "stdout",
     "output_type": "stream",
     "text": [
      "Enter l = 10\n",
      "Enter b = 20\n",
      "200\n"
     ]
    }
   ],
   "source": [
    "# function without argument and no return type\n",
    "\n",
    "l = int(input(\"Enter l = \"))  #global variable\n",
    "b = int(input(\"Enter b = \"))  #global veriable\n",
    "\n",
    "def area(x,y):    #parameter\n",
    "    a = x*y\n",
    "    print(a)\n",
    "    \n",
    "area(l,b)   #argument"
   ]
  },
  {
   "cell_type": "code",
   "execution_count": 9,
   "id": "0e6d7466",
   "metadata": {},
   "outputs": [
    {
     "name": "stdout",
     "output_type": "stream",
     "text": [
      "Enter l = 12\n",
      "Enter b = 2\n",
      "24\n"
     ]
    }
   ],
   "source": [
    "# function without argument and no return type\n",
    "\n",
    "\n",
    "def area(x,y):    #parameter\n",
    "    a = x*y\n",
    "    print(a)\n",
    "\n",
    "l = int(input(\"Enter l = \"))  #global variable\n",
    "b = int(input(\"Enter b = \"))  #global veriable\n",
    "    \n",
    "area(l,b)   #argument"
   ]
  },
  {
   "cell_type": "code",
   "execution_count": null,
   "id": "242690e5",
   "metadata": {},
   "outputs": [],
   "source": [
    "# function without argument and no return type\n",
    "\n",
    "\n",
    "def area(x,y):    #parameter\n",
    "    a = x*y\n",
    "    print(a)\n",
    "    \n",
    "def volume(x,y,z):    #parameter\n",
    "    v = x*y*z\n",
    "    print(v)\n",
    "\n",
    "\n",
    "l = int(input(\"Enter l = \"))  #global variable\n",
    "b = int(input(\"Enter b = \"))  #global veriable\n",
    "h = int(input(\"Enter h = \"))  #global veriable\n",
    "    \n",
    "area(l,b,)      #argument\n",
    "volume(l,b,h)   #argument"
   ]
  },
  {
   "cell_type": "raw",
   "id": "b77a587f",
   "metadata": {},
   "source": []
  },
  {
   "cell_type": "code",
   "execution_count": 11,
   "id": "e521466b",
   "metadata": {},
   "outputs": [],
   "source": [
    "# return type function"
   ]
  },
  {
   "cell_type": "code",
   "execution_count": 12,
   "id": "a01cbf8d",
   "metadata": {},
   "outputs": [
    {
     "name": "stdout",
     "output_type": "stream",
     "text": [
      "Hello World\n"
     ]
    }
   ],
   "source": [
    "# function without argument and return type\n",
    "\n",
    "def hello():\n",
    "    return\"Hello World\"\n",
    "\n",
    "print(hello())"
   ]
  },
  {
   "cell_type": "code",
   "execution_count": 15,
   "id": "e21655cb",
   "metadata": {},
   "outputs": [
    {
     "name": "stdout",
     "output_type": "stream",
     "text": [
      "Area =  20\n",
      "The volume =  40\n"
     ]
    }
   ],
   "source": [
    "# function without argument and return type\n",
    "\n",
    "def area():\n",
    "    l = 10\n",
    "    b = 2\n",
    "    a = l*b\n",
    "    return a\n",
    "\n",
    "x = area()\n",
    "h = 2\n",
    "print(\"Area = \",x)\n",
    "print(\"The volume = \",x*h)"
   ]
  },
  {
   "cell_type": "code",
   "execution_count": 16,
   "id": "a93e0331",
   "metadata": {},
   "outputs": [
    {
     "name": "stdout",
     "output_type": "stream",
     "text": [
      "Enter l = 10\n",
      "Enter b = 3\n",
      "Enter h = 2\n",
      "Area =  30\n",
      "The volume =  60\n"
     ]
    }
   ],
   "source": [
    "# function with argument and return type\n",
    "\n",
    "def area(l,b):\n",
    "    a = l*b\n",
    "    return a\n",
    "\n",
    "l = int(input(\"Enter l = \"))  \n",
    "b = int(input(\"Enter b = \"))   \n",
    "h = int(input(\"Enter h = \"))   \n",
    "\n",
    "x = area(l,b)\n",
    "\n",
    "print(\"Area = \",x)\n",
    "print(\"The volume = \",x*h)"
   ]
  },
  {
   "cell_type": "code",
   "execution_count": null,
   "id": "cf739f3b",
   "metadata": {},
   "outputs": [],
   "source": []
  }
 ],
 "metadata": {
  "kernelspec": {
   "display_name": "Python 3 (ipykernel)",
   "language": "python",
   "name": "python3"
  },
  "language_info": {
   "codemirror_mode": {
    "name": "ipython",
    "version": 3
   },
   "file_extension": ".py",
   "mimetype": "text/x-python",
   "name": "python",
   "nbconvert_exporter": "python",
   "pygments_lexer": "ipython3",
   "version": "3.9.13"
  }
 },
 "nbformat": 4,
 "nbformat_minor": 5
}
