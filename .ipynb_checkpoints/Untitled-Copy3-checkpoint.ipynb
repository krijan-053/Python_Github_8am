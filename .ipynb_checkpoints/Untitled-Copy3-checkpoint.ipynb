{
 "cells": [
  {
   "cell_type": "code",
   "execution_count": null,
   "id": "c120c469",
   "metadata": {},
   "outputs": [],
   "source": [
    "# if/else.   elif\n"
   ]
  },
  {
   "cell_type": "code",
   "execution_count": null,
   "id": "dff72190",
   "metadata": {},
   "outputs": [],
   "source": []
  },
  {
   "cell_type": "code",
   "execution_count": null,
   "id": "34496519",
   "metadata": {},
   "outputs": [],
   "source": [
    "#  if <condition>:\n",
    "#     <operation>\n",
    "# elif < "
   ]
  },
  {
   "cell_type": "code",
   "execution_count": null,
   "id": "8c2bca50",
   "metadata": {},
   "outputs": [],
   "source": [
    "a=int(input(\"Enter a = \"))\n",
    "if a>0:\n",
    "   print(a,\"is +ve value\")\n",
    "else:\n",
    "     print(a,\"is -ve value\")\n",
    "     "
   ]
  },
  {
   "cell_type": "code",
   "execution_count": null,
   "id": "40fdaee8",
   "metadata": {},
   "outputs": [],
   "source": [
    "a = int(input(\"Enter a = \"))\n",
    "if a%2==0:\n",
    "print(a,\"is even no\")\n",
    "else:\n",
    "print(a,\"is odd no\")\n"
   ]
  },
  {
   "cell_type": "code",
   "execution_count": null,
   "id": "3ce1a792",
   "metadata": {},
   "outputs": [],
   "source": [
    "a= int(input(\"Enter a = \")\n",
    "b = int(input(\"Enter b = \"))\n",
    "if a>b:\n"
   ]
  },
  {
   "cell_type": "code",
   "execution_count": 10,
   "id": "84664046",
   "metadata": {},
   "outputs": [
    {
     "name": "stdout",
     "output_type": "stream",
     "text": [
      "Enter physics marks = 12\n",
      "Enter chemistry marks = 12\n",
      "Enter math marks = 12\n",
      "Enter english marks = 12\n",
      "Enter nepali marks = 99\n"
     ]
    }
   ],
   "source": [
    "physics = int(input(\"Enter physics marks = \"))\n",
    "chemistry  = int(input(\"Enter chemistry marks = \"))\n",
    "math = int(input(\"Enter math marks = \"))\n",
    "english = int(input(\"Enter english marks = \"))\n",
    "nepali = int(input(\"Enter nepali marks = \"))\n",
    "\n",
    "total = physics + chemistry + math + english + nepali\n",
    "per = total/5\n",
    "if per > 80 or per==80:\n",
    "  grade = \"A\"\n",
    "elif per >=60:\n",
    "  grade = \"B\"\n",
    "elif per >= 45:\n",
    "  grade = \"C\"\n",
    "else:\n",
    "  grade = \"F\""
   ]
  },
  {
   "cell_type": "markdown",
   "id": "3cf7d076",
   "metadata": {},
   "source": [
    "# Logical operator\n",
    "#or |\n",
    "#and &\n",
    "#not ^\n",
    "\n",
    "#or\n",
    "#True or False -> True\n",
    "and\n",
    "True and False -> False\n",
    "\n"
   ]
  },
  {
   "cell_type": "code",
   "execution_count": 1,
   "id": "3a3c6704",
   "metadata": {},
   "outputs": [
    {
     "data": {
      "text/plain": [
       "False"
      ]
     },
     "execution_count": 1,
     "metadata": {},
     "output_type": "execute_result"
    }
   ],
   "source": [
    "True and False"
   ]
  },
  {
   "cell_type": "code",
   "execution_count": 2,
   "id": "ef6b7e29",
   "metadata": {},
   "outputs": [
    {
     "data": {
      "text/plain": [
       "True"
      ]
     },
     "execution_count": 2,
     "metadata": {},
     "output_type": "execute_result"
    }
   ],
   "source": [
    "True or False"
   ]
  },
  {
   "cell_type": "code",
   "execution_count": null,
   "id": "529ba489",
   "metadata": {},
   "outputs": [],
   "source": [
    "#\n",
    "n= int(input(\"Enter n = \"))\n",
    "if (n>=0) and (n%2==0):\n",
    "    print(n,\"is +ve and even\")\n",
    "elif (n<=0) and (n%2==0):\n",
    "    print(n,\" is -ve and even\")\n",
    "elif (n<=0) and (n!==0):\n",
    "    print(n,\"is -ve and odd\")\n",
    "else:\n",
    "    print(n,\"is +ve and odd\")\n"
   ]
  },
  {
   "cell_type": "markdown",
   "id": "6c707daf",
   "metadata": {},
   "source": []
  },
  {
   "cell_type": "code",
   "execution_count": 12,
   "id": "cbdab093",
   "metadata": {},
   "outputs": [
    {
     "name": "stdout",
     "output_type": "stream",
     "text": [
      "Enter value a = 12\n",
      "Enter value b = 22\n",
      "Enter + - * / /\n",
      "0.5454545454545454\n"
     ]
    }
   ],
   "source": [
    "a = int(input(\"Enter value a = \"))\n",
    "b = int(input(\"Enter value b = \"))\n",
    "o = input(\"Enter + - * / \")\n",
    "if o==\"+\":\n",
    "  print(a+b)\n",
    "elif o==\"-\":\n",
    "  print(a-b)\n",
    "elif o==\"*\":\n",
    "  print(a*b)\n",
    "elif o==\"/\" and b!=0:\n",
    "  print(a/b)\n",
    "else:\n",
    "  print(\"Invalid operator\")"
   ]
  },
  {
   "cell_type": "code",
   "execution_count": null,
   "id": "45b6c108",
   "metadata": {},
   "outputs": [],
   "source": []
  },
  {
   "cell_type": "code",
   "execution_count": null,
   "id": "167d4dfe",
   "metadata": {},
   "outputs": [],
   "source": [
    "#Nested if statement\n",
    "if<condition>:\n",
    "    if<condition>:\n",
    "        <operation>\n",
    "    else:\n",
    "        <operantion>\n",
    "else <condition>:\n",
    "    <operation>\n"
   ]
  },
  {
   "cell_type": "code",
   "execution_count": null,
   "id": "5fc6e89c",
   "metadata": {},
   "outputs": [],
   "source": [
    "a = int(input(\"Enter value a = \"))\n",
    "\n",
    "if a>=0:\n",
    "    if a>=0:\n",
    "        print(a,\"is +ve and even\")\n",
    "    else:\n",
    "        print(a,\"is +ve and odd\")\n",
    "else:\n",
    "    if a%2==0:\n",
    "        print(a,\"is -ve and even\")\n",
    "    else:\n",
    "        print(a,\"is -ve and odd\")"
   ]
  },
  {
   "cell_type": "code",
   "execution_count": 5,
   "id": "e2e742bb",
   "metadata": {},
   "outputs": [
    {
     "name": "stdout",
     "output_type": "stream",
     "text": [
      "1 Hello\n",
      "2 Hello\n",
      "3 Hello\n",
      "4 Hello\n"
     ]
    }
   ],
   "source": [
    "#for loop\n",
    "\n",
    "#range(5) #for(i=0;i<5,i++)\n",
    "#range(1,5) #for(i=1;i<5,i++)\n",
    "#range(1,10,2) #for(i=0;i<5,I=i+2)\n",
    "\n",
    "for i in range(1,5):\n",
    "    print(i,\"Hello\")"
   ]
  },
  {
   "cell_type": "markdown",
   "id": "88a2875f",
   "metadata": {},
   "source": [
    "## "
   ]
  },
  {
   "cell_type": "code",
   "execution_count": 3,
   "id": "9354db36",
   "metadata": {},
   "outputs": [
    {
     "name": "stdout",
     "output_type": "stream",
     "text": [
      "5 Hello\n",
      "4 Hello\n",
      "3 Hello\n",
      "2 Hello\n",
      "1 Hello\n",
      "0 Hello\n"
     ]
    }
   ],
   "source": [
    "for i in range(5,-1,-1):\n",
    "    print(i,\"Hello\")"
   ]
  },
  {
   "cell_type": "code",
   "execution_count": 6,
   "id": "3a3c1be3",
   "metadata": {},
   "outputs": [
    {
     "name": "stdout",
     "output_type": "stream",
     "text": [
      "5 Hello\n",
      "3 Hello\n",
      "1 Hello\n"
     ]
    }
   ],
   "source": [
    "for i in range(5,-1,-2):\n",
    "    print(i,\"Hello\")"
   ]
  },
  {
   "cell_type": "code",
   "execution_count": 9,
   "id": "67819be1",
   "metadata": {},
   "outputs": [
    {
     "name": "stdout",
     "output_type": "stream",
     "text": [
      "5\n",
      "10\n",
      "15\n",
      "20\n",
      "25\n"
     ]
    }
   ],
   "source": [
    "for i in range(1,6):\n",
    "    print(5*i)\n"
   ]
  },
  {
   "cell_type": "code",
   "execution_count": 13,
   "id": "71505a5e",
   "metadata": {},
   "outputs": [
    {
     "name": "stdout",
     "output_type": "stream",
     "text": [
      "Enter value = 2\n",
      "2\n",
      "6\n",
      "10\n"
     ]
    }
   ],
   "source": [
    "n=int(input(\"Enter value = \"))\n",
    "for i in range(1,6,2):\n",
    "    print(n*i)"
   ]
  },
  {
   "cell_type": "code",
   "execution_count": 1,
   "id": "45181d10",
   "metadata": {},
   "outputs": [
    {
     "name": "stdout",
     "output_type": "stream",
     "text": [
      "Enter value = 2\n",
      "2 * 1 = 2\n",
      "2 * 2 = 4\n",
      "2 * 3 = 6\n",
      "2 * 4 = 8\n",
      "2 * 5 = 10\n"
     ]
    }
   ],
   "source": [
    "n=int(input(\"Enter value = \"))\n",
    "for i in range(1,6,1):\n",
    "    print(n,\"*\",i,\"=\",n*i)"
   ]
  },
  {
   "cell_type": "code",
   "execution_count": 4,
   "id": "a634de00",
   "metadata": {},
   "outputs": [
    {
     "name": "stdout",
     "output_type": "stream",
     "text": [
      "Enter n = 2\n",
      "2\n",
      "Enter n = 4\n",
      "4\n"
     ]
    }
   ],
   "source": [
    "for i in range(2):\n",
    "    n = int(input(\"Enter n = \"))\n",
    "    print(n)"
   ]
  },
  {
   "cell_type": "code",
   "execution_count": 1,
   "id": "a2df3f44",
   "metadata": {},
   "outputs": [
    {
     "name": "stdout",
     "output_type": "stream",
     "text": [
      "Enter n = 2\n",
      "2\n",
      "Enter n = 4\n",
      "6\n",
      "Enter n = 5\n",
      "11\n",
      "Enter n = 6\n",
      "17\n",
      "Enter n = 6\n",
      "23\n"
     ]
    }
   ],
   "source": [
    "s=0\n",
    "for i in range(5):\n",
    "    n = int(input(\"Enter n = \"))\n",
    "    s = s + n\n",
    "    print(s)"
   ]
  },
  {
   "cell_type": "code",
   "execution_count": 2,
   "id": "10661391",
   "metadata": {},
   "outputs": [
    {
     "name": "stdout",
     "output_type": "stream",
     "text": [
      "Enter c = 6\n",
      "Enter n = 6\n",
      "Enter n = 6\n",
      "Enter n = 6\n",
      "Enter n = 6\n",
      "Enter n = 6\n",
      "30\n"
     ]
    }
   ],
   "source": [
    "s = 0\n",
    "c = int(input(\"Enter c = \"))\n",
    "for i in range(5):\n",
    "    n = int(input(\"Enter n = \"))\n",
    "    s = s + n\n",
    "print(s)"
   ]
  },
  {
   "cell_type": "markdown",
   "id": "0c5c3c67",
   "metadata": {},
   "source": []
  },
  {
   "cell_type": "code",
   "execution_count": 3,
   "id": "567a9628",
   "metadata": {},
   "outputs": [
    {
     "name": "stdout",
     "output_type": "stream",
     "text": [
      "Enter c = 1\n",
      "Enter n = rf\n",
      " rf\n"
     ]
    }
   ],
   "source": [
    "\n",
    "s = str()\n",
    "c = int(input(\"Enter c = \"))\n",
    "for i in range(c):\n",
    "    n = input(\"Enter n = \")\n",
    "    s = s +\" \"+ n\n",
    "    print(s)"
   ]
  },
  {
   "cell_type": "code",
   "execution_count": 7,
   "id": "f0f12f51",
   "metadata": {},
   "outputs": [
    {
     "name": "stdout",
     "output_type": "stream",
     "text": [
      "Enter c = 2\n",
      "Enter name :  ram\n",
      "Enter phone no:  980\n",
      "ram 980\n",
      "\n",
      "Enter name :  shyam\n",
      "Enter phone no:  123\n",
      "ram 980\n",
      "shyam 123\n",
      "\n"
     ]
    }
   ],
   "source": [
    "s = str()\n",
    "c = int(input(\"Enter c = \"))\n",
    "for i in range(c):\n",
    "    name = input(\"Enter name :  \")\n",
    "    phone = int(input(\"Enter phone no:  \"))\n",
    "    s = s +name+\" \"+str(phone)+\"\\n\"\n",
    "    print(s)\n",
    "    \n",
    "    "
   ]
  },
  {
   "cell_type": "code",
   "execution_count": 8,
   "id": "32cf7910",
   "metadata": {},
   "outputs": [
    {
     "name": "stdout",
     "output_type": "stream",
     "text": [
      "1\n",
      "2\n",
      "6\n",
      "24\n"
     ]
    }
   ],
   "source": [
    "# 4! = 1*2*3*4\n",
    "i = 1\n",
    "fac = 1\n",
    "for i in range(1,5):\n",
    "    fac = fac*i\n",
    "    print(fac)\n"
   ]
  },
  {
   "cell_type": "code",
   "execution_count": 12,
   "id": "5df25547",
   "metadata": {},
   "outputs": [
    {
     "name": "stdout",
     "output_type": "stream",
     "text": [
      "Enter value = 100\n",
      "5050\n"
     ]
    }
   ],
   "source": [
    "# 4(sum) = 1+2+3+4\n",
    "add = 0\n",
    "n = int(input(\"Enter value = \"))\n",
    "for i in range(n+1):\n",
    "    add = add+i\n",
    "print(add)\n"
   ]
  },
  {
   "cell_type": "code",
   "execution_count": 13,
   "id": "f4db71a5",
   "metadata": {},
   "outputs": [
    {
     "name": "stdout",
     "output_type": "stream",
     "text": [
      "P\n",
      "y\n",
      "t\n",
      "h\n",
      "o\n",
      "n\n"
     ]
    }
   ],
   "source": [
    "a = \"Python\"\n",
    "for i in a:\n",
    "    print(i)"
   ]
  },
  {
   "cell_type": "code",
   "execution_count": 19,
   "id": "1c65fd0f",
   "metadata": {},
   "outputs": [
    {
     "name": "stdout",
     "output_type": "stream",
     "text": [
      "HelloWorldiamPython"
     ]
    }
   ],
   "source": [
    "a = \"Hello World i am Python\"\n",
    "for i in a:\n",
    "    if i != \" \":\n",
    "        print(i,end = \"\")"
   ]
  },
  {
   "cell_type": "code",
   "execution_count": 20,
   "id": "ce2be9e5",
   "metadata": {},
   "outputs": [
    {
     "name": "stdout",
     "output_type": "stream",
     "text": [
      "Hello World i am Python"
     ]
    }
   ],
   "source": [
    "a = \"Hello World i am Python\"\n",
    "for i in a:\n",
    "    if i != \"\":\n",
    "        print(i,end = \"\")"
   ]
  },
  {
   "cell_type": "code",
   "execution_count": 30,
   "id": "ee3a1824",
   "metadata": {},
   "outputs": [
    {
     "name": "stdout",
     "output_type": "stream",
     "text": [
      "0 H1 e2 l3 l4 o6 W7 o8 r9 l10 d12 i14 a15 m17 P18 y19 t20 h21 o22 n"
     ]
    }
   ],
   "source": [
    "a = \"Hello World i am Python\"\n",
    "l = len(a)\n",
    "for i in range(l):\n",
    "    if a[i] != \" \":\n",
    "        print(i,a[i],end = \"\")"
   ]
  },
  {
   "cell_type": "code",
   "execution_count": 29,
   "id": "a0ed8f2d",
   "metadata": {},
   "outputs": [
    {
     "name": "stdout",
     "output_type": "stream",
     "text": [
      "Hello World i am Python"
     ]
    }
   ],
   "source": [
    "a = \"Hello World i am Python\"\n",
    "l = len(a)\n",
    "for i in range(l):\n",
    "    if a[i] != \"\":\n",
    "        print(a[i],end = \"\")"
   ]
  },
  {
   "cell_type": "code",
   "execution_count": 1,
   "id": "d59669e6",
   "metadata": {},
   "outputs": [],
   "source": [
    "#while <condition>:\n",
    "#        <operation>\n",
    "\n",
    "while False:\n",
    "    print(\"Hello World\")"
   ]
  },
  {
   "cell_type": "code",
   "execution_count": 4,
   "id": "175960bc",
   "metadata": {},
   "outputs": [
    {
     "name": "stdout",
     "output_type": "stream",
     "text": [
      "0\n",
      "0.5\n",
      "1.0\n",
      "1.5\n",
      "2.0\n",
      "2.5\n",
      "3.0\n",
      "3.5\n",
      "4.0\n",
      "4.5\n",
      "5.0\n"
     ]
    }
   ],
   "source": [
    "a = 0\n",
    "while a<=5:\n",
    "    print(a)\n",
    "    a = a+0.5"
   ]
  },
  {
   "cell_type": "code",
   "execution_count": 5,
   "id": "7d1e4c42",
   "metadata": {},
   "outputs": [
    {
     "name": "stdout",
     "output_type": "stream",
     "text": [
      "0 Hello World\n",
      "1 Hello World\n",
      "2 Hello World\n",
      "3 Hello World\n",
      "4 Hello World\n"
     ]
    }
   ],
   "source": [
    "a = 0\n",
    "while a<5:\n",
    "    print(a,\"Hello World\")\n",
    "    a = a+1"
   ]
  },
  {
   "cell_type": "code",
   "execution_count": null,
   "id": "902ad005",
   "metadata": {},
   "outputs": [],
   "source": []
  }
 ],
 "metadata": {
  "kernelspec": {
   "display_name": "Python 3 (ipykernel)",
   "language": "python",
   "name": "python3"
  },
  "language_info": {
   "codemirror_mode": {
    "name": "ipython",
    "version": 3
   },
   "file_extension": ".py",
   "mimetype": "text/x-python",
   "name": "python",
   "nbconvert_exporter": "python",
   "pygments_lexer": "ipython3",
   "version": "3.9.13"
  }
 },
 "nbformat": 4,
 "nbformat_minor": 5
}
