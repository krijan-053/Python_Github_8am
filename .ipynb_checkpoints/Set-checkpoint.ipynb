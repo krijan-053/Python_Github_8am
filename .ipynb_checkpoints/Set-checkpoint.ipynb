{
 "cells": [
  {
   "cell_type": "code",
   "execution_count": 1,
   "id": "a9916aee",
   "metadata": {},
   "outputs": [],
   "source": [
    "# Set\n",
    "# -No indexing\n",
    "# -No dublicate data\n",
    "# -Unordered\n",
    "# -Mutable"
   ]
  },
  {
   "cell_type": "code",
   "execution_count": 2,
   "id": "493eec5f",
   "metadata": {},
   "outputs": [
    {
     "data": {
      "text/plain": [
       "set"
      ]
     },
     "execution_count": 2,
     "metadata": {},
     "output_type": "execute_result"
    }
   ],
   "source": [
    "s = {1}\n",
    "type(s)"
   ]
  },
  {
   "cell_type": "code",
   "execution_count": 5,
   "id": "e69228fa",
   "metadata": {},
   "outputs": [
    {
     "name": "stdout",
     "output_type": "stream",
     "text": [
      "{'Dog', 'cat', 'Fish', 'ball', 'Apple'}\n"
     ]
    },
    {
     "data": {
      "text/plain": [
       "{'Apple', 'Dog', 'Fish', 'ball', 'cat'}"
      ]
     },
     "execution_count": 5,
     "metadata": {},
     "output_type": "execute_result"
    }
   ],
   "source": [
    "# -Unordered\n",
    "# s = set()\n",
    "\n",
    "s = {\"Apple\",\"ball\",\"cat\",\"Fish\",\"Dog\"}\n",
    "print(s)\n",
    "s"
   ]
  },
  {
   "cell_type": "code",
   "execution_count": 9,
   "id": "5fd30ede",
   "metadata": {},
   "outputs": [
    {
     "data": {
      "text/plain": [
       "{'Apple', 'Dog', 'Fish', 'ball', 'cat'}"
      ]
     },
     "execution_count": 9,
     "metadata": {},
     "output_type": "execute_result"
    }
   ],
   "source": [
    "# -No dublicate data\n",
    "\n",
    "s = {\"Apple\",\"ball\",\"cat\",\"Fish\",\"Dog\",\"Apple\"}\n",
    "s"
   ]
  },
  {
   "cell_type": "code",
   "execution_count": 8,
   "id": "335d78a3",
   "metadata": {},
   "outputs": [
    {
     "name": "stdout",
     "output_type": "stream",
     "text": [
      "{'Dog', 'cat', 'Fish', 'ball', 'Apple'}\n"
     ]
    }
   ],
   "source": [
    "print(s)"
   ]
  },
  {
   "cell_type": "code",
   "execution_count": 10,
   "id": "6f4b861e",
   "metadata": {},
   "outputs": [
    {
     "data": {
      "text/plain": [
       "{'Apple', 'Ball', 'Cat'}"
      ]
     },
     "execution_count": 10,
     "metadata": {},
     "output_type": "execute_result"
    }
   ],
   "source": [
    "s = set()\n",
    "s.add('Apple')\n",
    "s.add('Ball')\n",
    "s.add('Cat')\n",
    "s"
   ]
  },
  {
   "cell_type": "code",
   "execution_count": 15,
   "id": "45d31580",
   "metadata": {},
   "outputs": [
    {
     "data": {
      "text/plain": [
       "{'Apple', 'Dog', 'Fish', 'ball', 'cat'}"
      ]
     },
     "execution_count": 15,
     "metadata": {},
     "output_type": "execute_result"
    }
   ],
   "source": [
    "#  - 1\n",
    "s = {\"Apple\",\"ball\",\"cat\",\"Fish\",\"Dog\",\"Apple\",\"ball\",\"cat\",'Fish'}\n",
    "s = set(s)\n",
    "s"
   ]
  },
  {
   "cell_type": "code",
   "execution_count": 16,
   "id": "cafdd565",
   "metadata": {},
   "outputs": [
    {
     "data": {
      "text/plain": [
       "['Dog', 'cat', 'Fish', 'ball', 'Apple']"
      ]
     },
     "execution_count": 16,
     "metadata": {},
     "output_type": "execute_result"
    }
   ],
   "source": [
    "#  - 2\n",
    "s = list(set(s))\n",
    "s"
   ]
  },
  {
   "cell_type": "code",
   "execution_count": 17,
   "id": "63d54cf6",
   "metadata": {},
   "outputs": [
    {
     "data": {
      "text/plain": [
       "{'Apple', 'Ball', 'Cat'}"
      ]
     },
     "execution_count": 17,
     "metadata": {},
     "output_type": "execute_result"
    }
   ],
   "source": [
    "#Add\n",
    "s = set()\n",
    "s.add('Apple')\n",
    "s.add('Ball')\n",
    "s.add('Cat')\n",
    "s"
   ]
  },
  {
   "cell_type": "code",
   "execution_count": 20,
   "id": "c9793f1f",
   "metadata": {},
   "outputs": [
    {
     "data": {
      "text/plain": [
       "{'Ball', 'Cat'}"
      ]
     },
     "execution_count": 20,
     "metadata": {},
     "output_type": "execute_result"
    }
   ],
   "source": [
    "# Remove / Delete\n",
    "s = {'Apple', 'Ball', 'Cat'}\n",
    "s.remove('Apple')\n",
    "s"
   ]
  },
  {
   "cell_type": "code",
   "execution_count": 21,
   "id": "1a59d94b",
   "metadata": {},
   "outputs": [],
   "source": [
    "# No +"
   ]
  },
  {
   "cell_type": "code",
   "execution_count": 33,
   "id": "6d2f7a58",
   "metadata": {},
   "outputs": [
    {
     "name": "stdout",
     "output_type": "stream",
     "text": [
      "{'Hari', 'Mike'}\n",
      "{'Hari', 'Mike'} {'Ram', 'Mike'}\n",
      "{'Shyam', 'Mark', 'Ram', 'Jhon', 'Bill', 'Nabin', 'Jobs', 'Hari', 'Sarita', 'Sita', 'Mike'}\n",
      "{'Shyam', 'Mark', 'Ram', 'Jhon', 'Bill', 'Nabin', 'Jobs', 'Hari', 'Sarita', 'Sita', 'Mike'} {'Ram', 'Mike'}\n"
     ]
    }
   ],
   "source": [
    "# intersection() union() difference()\n",
    "ms = {\"Ram\",\"Shyam\",\"Hari\",\"Bill\",\"Jhon\",\"Mike\",\"Mark\"}\n",
    "apple = {\"Jobs\",\"Mike\",\"Nabin\",\"Hari\",\"Sita\",\"Sarita\"}\n",
    "dell = {\"Ram\",\"Mike\"}\n",
    "print(ms.intersection(apple))\n",
    "print(ms.intersection(apple),(dell))\n",
    "print(ms.union(apple))\n",
    "print(ms.union(apple),(dell))\n"
   ]
  },
  {
   "cell_type": "code",
   "execution_count": 31,
   "id": "ea490df4",
   "metadata": {},
   "outputs": [
    {
     "data": {
      "text/plain": [
       "{'Jobs', 'Nabin', 'Sarita', 'Sita'}"
      ]
     },
     "execution_count": 31,
     "metadata": {},
     "output_type": "execute_result"
    }
   ],
   "source": [
    "apple-ms\n",
    "# apple.difference(ms)"
   ]
  },
  {
   "cell_type": "code",
   "execution_count": 29,
   "id": "276d4614",
   "metadata": {},
   "outputs": [
    {
     "data": {
      "text/plain": [
       "{'Bill', 'Jhon', 'Mark', 'Ram', 'Shyam'}"
      ]
     },
     "execution_count": 29,
     "metadata": {},
     "output_type": "execute_result"
    }
   ],
   "source": [
    "ms - apple"
   ]
  },
  {
   "cell_type": "code",
   "execution_count": 30,
   "id": "c2291dd7",
   "metadata": {},
   "outputs": [
    {
     "data": {
      "text/plain": [
       "{'Jobs', 'Nabin', 'Sarita', 'Sita'}"
      ]
     },
     "execution_count": 30,
     "metadata": {},
     "output_type": "execute_result"
    }
   ],
   "source": [
    "apple.difference(ms)"
   ]
  },
  {
   "cell_type": "code",
   "execution_count": 40,
   "id": "1b662d15",
   "metadata": {},
   "outputs": [
    {
     "name": "stdout",
     "output_type": "stream",
     "text": [
      "{'Hari', 'Mike'}\n",
      "{'Shyam', 'Mark', 'Ram', 'Jhon', 'Bill', 'Nabin', 'Jobs', 'Hari', 'Sarita', 'Sita', 'Mike'}\n"
     ]
    }
   ],
   "source": [
    "# intersection() union() difference()\n",
    "U = {'Shyam', 'Mark', 'Ram', 'Jhon', 'Bill', 'Nabin', 'Jobs', 'Hari', 'Sarita', 'Sita', 'Mike','xyz'}\n",
    "ms = {\"Ram\",\"Shyam\",\"Hari\",\"Bill\",\"Jhon\",\"Mike\",\"Mark\"}\n",
    "apple = {\"Jobs\",\"Mike\",\"Nabin\",\"Hari\",\"Sita\",\"Sarita\"}\n",
    "\n",
    "print(ms.intersection(apple))\n",
    "print(ms.union(apple))"
   ]
  },
  {
   "cell_type": "code",
   "execution_count": 41,
   "id": "b24a3126",
   "metadata": {},
   "outputs": [
    {
     "data": {
      "text/plain": [
       "{'xyz'}"
      ]
     },
     "execution_count": 41,
     "metadata": {},
     "output_type": "execute_result"
    }
   ],
   "source": [
    "U - ms.union(apple)"
   ]
  },
  {
   "cell_type": "code",
   "execution_count": null,
   "id": "a45bb39b",
   "metadata": {},
   "outputs": [],
   "source": []
  }
 ],
 "metadata": {
  "kernelspec": {
   "display_name": "Python 3 (ipykernel)",
   "language": "python",
   "name": "python3"
  },
  "language_info": {
   "codemirror_mode": {
    "name": "ipython",
    "version": 3
   },
   "file_extension": ".py",
   "mimetype": "text/x-python",
   "name": "python",
   "nbconvert_exporter": "python",
   "pygments_lexer": "ipython3",
   "version": "3.9.13"
  }
 },
 "nbformat": 4,
 "nbformat_minor": 5
}
