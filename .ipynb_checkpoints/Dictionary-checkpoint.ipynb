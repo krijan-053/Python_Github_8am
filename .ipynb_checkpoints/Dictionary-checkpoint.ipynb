{
 "cells": [
  {
   "cell_type": "code",
   "execution_count": null,
   "id": "f20b71a5",
   "metadata": {},
   "outputs": [],
   "source": [
    "# Dictionary\n",
    "# -Indexing\n",
    "# -Multiple and dublicate values\n",
    "# -Ordered\n",
    "# -Mutable"
   ]
  },
  {
   "cell_type": "code",
   "execution_count": null,
   "id": "8eceac14",
   "metadata": {},
   "outputs": [],
   "source": [
    "# d = {}\n",
    "# d = {<key>:<value>,<key>:<value>,.....}\n"
   ]
  },
  {
   "cell_type": "code",
   "execution_count": 4,
   "id": "f0d95b39",
   "metadata": {},
   "outputs": [
    {
     "name": "stdout",
     "output_type": "stream",
     "text": [
      "<class 'dict'>\n",
      "apple\n",
      "ball\n",
      "cat\n",
      "{'a': 'apple', 'b': 'ball', 'c': 'cat', 'A': 'Apple'}\n"
     ]
    }
   ],
   "source": [
    "a = {'a':'apple','b':'ball','c':'cat','A':'Apple'}\n",
    "print(type(a))\n",
    "print(a['a'])\n",
    "print(a['b'])\n",
    "print(a['c'])\n",
    "print(a)"
   ]
  },
  {
   "cell_type": "code",
   "execution_count": 5,
   "id": "52a854a2",
   "metadata": {},
   "outputs": [
    {
     "name": "stdout",
     "output_type": "stream",
     "text": [
      "{'a': 'Apple', 'b': 'ball', 'c': 'cat'}\n"
     ]
    }
   ],
   "source": [
    "#if key is dublicate ,last key is used.\n",
    "a = {'a':'apple','b':'ball','c':'cat','a':'Apple'}\n",
    "print(a)"
   ]
  },
  {
   "cell_type": "code",
   "execution_count": 7,
   "id": "9a68d31b",
   "metadata": {},
   "outputs": [
    {
     "name": "stdout",
     "output_type": "stream",
     "text": [
      "{'a': 'bpple', 'b': 'ball', 'c': 'cat'}\n"
     ]
    }
   ],
   "source": [
    "#if key is dublicate ,last key is used.\n",
    "a = {'a':'apple','b':'ball','c':'cat','a':'bpple'}\n",
    "print(a)"
   ]
  },
  {
   "cell_type": "code",
   "execution_count": 8,
   "id": "7cfac562",
   "metadata": {},
   "outputs": [],
   "source": [
    "# No + and *"
   ]
  },
  {
   "cell_type": "code",
   "execution_count": 9,
   "id": "20f2bfdf",
   "metadata": {},
   "outputs": [
    {
     "name": "stdout",
     "output_type": "stream",
     "text": [
      "a\n",
      "b\n",
      "c\n",
      "A\n"
     ]
    }
   ],
   "source": [
    "a = {'a':'apple','b':'ball','c':'cat','A':'apple'}\n",
    "for i in a:\n",
    "    print(i)"
   ]
  },
  {
   "cell_type": "code",
   "execution_count": 10,
   "id": "e8a4290b",
   "metadata": {},
   "outputs": [
    {
     "name": "stdout",
     "output_type": "stream",
     "text": [
      "apple\n",
      "ball\n",
      "cat\n",
      "apple\n"
     ]
    }
   ],
   "source": [
    "a = {'a':'apple','b':'ball','c':'cat','A':'apple'}\n",
    "for i in a.values():\n",
    "    print(i)"
   ]
  },
  {
   "cell_type": "code",
   "execution_count": 11,
   "id": "9d03a56f",
   "metadata": {},
   "outputs": [
    {
     "data": {
      "text/plain": [
       "dict_values(['apple', 'ball', 'cat', 'apple'])"
      ]
     },
     "execution_count": 11,
     "metadata": {},
     "output_type": "execute_result"
    }
   ],
   "source": [
    "a = {'a':'apple','b':'ball','c':'cat','A':'apple'}\n",
    "a.values()"
   ]
  },
  {
   "cell_type": "code",
   "execution_count": 12,
   "id": "9c01f114",
   "metadata": {},
   "outputs": [
    {
     "name": "stdout",
     "output_type": "stream",
     "text": [
      "('a', 'apple')\n",
      "('b', 'ball')\n",
      "('c', 'cat')\n",
      "('A', 'apple')\n"
     ]
    }
   ],
   "source": [
    "a = {'a':'apple','b':'ball','c':'cat','A':'apple'}\n",
    "for i in a.items():\n",
    "    print(i)"
   ]
  },
  {
   "cell_type": "code",
   "execution_count": 16,
   "id": "168d80f3",
   "metadata": {},
   "outputs": [
    {
     "name": "stdout",
     "output_type": "stream",
     "text": [
      "[('a', 'apple'), ('b', 'ball'), ('c', 'cat'), ('A', 'apple')]\n",
      "{'a': 'apple', 'b': 'ball', 'c': 'cat', 'A': 'apple'}\n"
     ]
    }
   ],
   "source": [
    "l = []\n",
    "a = {'a':'apple','b':'ball','c':'cat','A':'apple'}\n",
    "for i in a.items():\n",
    "    l.append(i)\n",
    "print(l)\n",
    "print(dict(l))\n"
   ]
  },
  {
   "cell_type": "code",
   "execution_count": 17,
   "id": "9d1fb524",
   "metadata": {},
   "outputs": [
    {
     "data": {
      "text/plain": [
       "{'a': 'Apple', 'b': 'Ball', 'c': 'Cat'}"
      ]
     },
     "execution_count": 17,
     "metadata": {},
     "output_type": "execute_result"
    }
   ],
   "source": [
    "d = {}\n",
    "d['a'] = 'Apple'\n",
    "d['b'] = 'Ball'\n",
    "d['c'] = 'Cat'\n",
    "d"
   ]
  },
  {
   "cell_type": "code",
   "execution_count": 19,
   "id": "58703446",
   "metadata": {},
   "outputs": [
    {
     "data": {
      "text/plain": [
       "{'a': 'apple', 'b': 'ball', 'c': 'cat'}"
      ]
     },
     "execution_count": 19,
     "metadata": {},
     "output_type": "execute_result"
    }
   ],
   "source": [
    "a = {'a':'Apple','b':'ball','c':'cat'}\n",
    "a['a'] = 'apple'\n",
    "a"
   ]
  },
  {
   "cell_type": "code",
   "execution_count": 23,
   "id": "f9c0a1cd",
   "metadata": {},
   "outputs": [
    {
     "name": "stdout",
     "output_type": "stream",
     "text": [
      "Enter n = 1\n",
      "Enter name = ram\n",
      "Enter phone no = 123\n",
      "{123: 'ram'}\n"
     ]
    }
   ],
   "source": [
    "data = {}\n",
    "n = int(input('Enter n = '))\n",
    "for i in range(n):\n",
    "    name = input('Enter name = ')\n",
    "    phone = int(input('Enter phone no = '))\n",
    "    data[phone] = name\n",
    "print(data)"
   ]
  },
  {
   "cell_type": "code",
   "execution_count": 62,
   "id": "080d9cfb",
   "metadata": {},
   "outputs": [
    {
     "name": "stdout",
     "output_type": "stream",
     "text": [
      "[['A', 'apple'], ['b', 'ball'], ['c', 'cat'], ['A', 'apple']]\n",
      "{'A': 'apple', 'b': 'ball', 'c': 'cat'}\n"
     ]
    }
   ],
   "source": [
    "l = []\n",
    "a = {'a':'apple','b':'ball','c':'cat','A':'apple'}\n",
    "for i in a.items():\n",
    "    l.append(list(i))\n",
    "l[0][0] = 'A'\n",
    "print(l)\n",
    "print(dict(l))"
   ]
  },
  {
   "cell_type": "code",
   "execution_count": 32,
   "id": "3c1a49d2",
   "metadata": {},
   "outputs": [],
   "source": [
    "# input\n",
    "# update\n",
    "# update\n",
    "# del"
   ]
  },
  {
   "cell_type": "code",
   "execution_count": 36,
   "id": "eb9c495f",
   "metadata": {},
   "outputs": [
    {
     "data": {
      "text/plain": [
       "['a', 'b', 'c', 'A']"
      ]
     },
     "execution_count": 36,
     "metadata": {},
     "output_type": "execute_result"
    }
   ],
   "source": [
    "a = {'a':'apple','b':'ball','c':'cat','A':'apple'}\n",
    "list(a)"
   ]
  },
  {
   "cell_type": "code",
   "execution_count": 34,
   "id": "02dc91fb",
   "metadata": {},
   "outputs": [
    {
     "data": {
      "text/plain": [
       "['apple', 'ball', 'cat', 'apple']"
      ]
     },
     "execution_count": 34,
     "metadata": {},
     "output_type": "execute_result"
    }
   ],
   "source": [
    "a = {'a':'apple','b':'ball','c':'cat','A':'apple'}\n",
    "list(a.values())"
   ]
  },
  {
   "cell_type": "code",
   "execution_count": 33,
   "id": "c4de2c9e",
   "metadata": {},
   "outputs": [
    {
     "data": {
      "text/plain": [
       "[('a', 'apple'), ('b', 'ball'), ('c', 'cat'), ('A', 'apple')]"
      ]
     },
     "execution_count": 33,
     "metadata": {},
     "output_type": "execute_result"
    }
   ],
   "source": [
    "a = {'a':'apple','b':'ball','c':'cat','A':'apple'}\n",
    "list(a.items())"
   ]
  },
  {
   "cell_type": "code",
   "execution_count": 28,
   "id": "67c6abfd",
   "metadata": {},
   "outputs": [
    {
     "data": {
      "text/plain": [
       "{'b': 'ball', 'c': 'cat', 'A': 'apple'}"
      ]
     },
     "execution_count": 28,
     "metadata": {},
     "output_type": "execute_result"
    }
   ],
   "source": [
    "a = {'a':'apple','b':'ball','c':'cat','A':'apple'}\n",
    "del a['a']\n",
    "a"
   ]
  },
  {
   "cell_type": "code",
   "execution_count": 31,
   "id": "d1b5557e",
   "metadata": {},
   "outputs": [
    {
     "name": "stdout",
     "output_type": "stream",
     "text": [
      "{'b': 'ball', 'c': 'cat', 'A': 'apple'}\n",
      "apple\n"
     ]
    }
   ],
   "source": [
    "a = {'a':'apple','b':'ball','c':'cat','A':'apple'}\n",
    "b = a.pop('a')\n",
    "print(a)\n",
    "print(b)\n"
   ]
  },
  {
   "cell_type": "code",
   "execution_count": 37,
   "id": "a36991ce",
   "metadata": {},
   "outputs": [
    {
     "data": {
      "text/plain": [
       "dict"
      ]
     },
     "execution_count": 37,
     "metadata": {},
     "output_type": "execute_result"
    }
   ],
   "source": [
    "d = {'Ram':[12345,67890],\n",
    "    'Sita': [23411,69876],\n",
    "    'Hari':[54321,45678]}\n",
    "type(d)\n"
   ]
  },
  {
   "cell_type": "code",
   "execution_count": 39,
   "id": "a793ae4c",
   "metadata": {},
   "outputs": [
    {
     "name": "stdout",
     "output_type": "stream",
     "text": [
      "Enter n = 2\n",
      "Enter name = ram\n",
      "Enter NTC phone no = 12345\n",
      "Enter Ncell phone no = 54321\n",
      "Enter name = ashyam\n",
      "Enter NTC phone no = 67890\n",
      "Enter Ncell phone no = 90876\n",
      "{'ram': [12345, 54321], 'ashyam': [67890, 90876]}\n"
     ]
    }
   ],
   "source": [
    "data = {}\n",
    "n = int(input('Enter n = '))\n",
    "for i in range(n):\n",
    "    name = input('Enter name = ')\n",
    "    ntc_phone = int(input('Enter NTC phone no = '))\n",
    "    ncell_phone = int(input('Enter Ncell phone no = '))\n",
    "\n",
    "    data[name] = [ntc_phone,ncell_phone]\n",
    "print(data)"
   ]
  },
  {
   "cell_type": "code",
   "execution_count": 40,
   "id": "386c6491",
   "metadata": {},
   "outputs": [
    {
     "name": "stdout",
     "output_type": "stream",
     "text": [
      "[12345, 54321]\n",
      "12345\n"
     ]
    }
   ],
   "source": [
    "data = {'ram': [12345, 54321], 'shyam': [67890, 90876]}\n",
    "print(data['ram'])\n",
    "print(data['ram'][0])"
   ]
  },
  {
   "cell_type": "code",
   "execution_count": 43,
   "id": "292e6f7b",
   "metadata": {},
   "outputs": [
    {
     "name": "stdout",
     "output_type": "stream",
     "text": [
      "{'ram': [98000, 54321], 'shyam': [67890, 90876]}\n"
     ]
    }
   ],
   "source": [
    "data['ram'][0]=98000\n",
    "print(data)"
   ]
  },
  {
   "cell_type": "code",
   "execution_count": 45,
   "id": "ee72cae2",
   "metadata": {},
   "outputs": [
    {
     "name": "stdout",
     "output_type": "stream",
     "text": [
      "{'ram': [54321], 'shyam': [67890, 90876]}\n"
     ]
    }
   ],
   "source": [
    "del data['ram'][0]\n",
    "print(data)"
   ]
  },
  {
   "cell_type": "code",
   "execution_count": 48,
   "id": "d34e35c4",
   "metadata": {},
   "outputs": [],
   "source": [
    "#  data = {'name':[Ram,Shyam,Hari],\n",
    "#         'age':[56,78,65],\n",
    "#         'add':['kathmandu','Bhaktapur','Lalitpur']}"
   ]
  },
  {
   "cell_type": "code",
   "execution_count": 52,
   "id": "375c09f6",
   "metadata": {},
   "outputs": [
    {
     "name": "stdout",
     "output_type": "stream",
     "text": [
      "Enter n = 2\n",
      "Enter name = Ram\n",
      "Enter age = 89\n",
      "Enter add = Kathmandu\n",
      "Enter name = Shyam\n",
      "Enter age = 78\n",
      "Enter add = kathmandu\n",
      "{'name': ['Ram', 'Shyam'], 'age': [89, 78], 'add': ['Kathmandu', 'kathmandu']}\n"
     ]
    }
   ],
   "source": [
    "data = {'name':[],'age':[],'add':[]}\n",
    "n = int(input('Enter n = '))\n",
    "for i in range(n):\n",
    "    name = input('Enter name = ')\n",
    "    age = int(input('Enter age = '))\n",
    "    add = (input('Enter add = '))\n",
    "    data['name'].append(name)\n",
    "    data['age'].append(age)\n",
    "    data['add'].append(add)\n",
    "print(data)"
   ]
  },
  {
   "cell_type": "code",
   "execution_count": 54,
   "id": "30782d3a",
   "metadata": {},
   "outputs": [
    {
     "name": "stdout",
     "output_type": "stream",
     "text": [
      "Ram 89 Kathmandu\n"
     ]
    }
   ],
   "source": [
    "print(data['name'][0],data['age'][0],data['add'][0])"
   ]
  },
  {
   "cell_type": "code",
   "execution_count": 61,
   "id": "27197aa9",
   "metadata": {},
   "outputs": [
    {
     "data": {
      "text/plain": [
       "{'name': ['Shyam'], 'age': [78], 'add': ['kathmandu']}"
      ]
     },
     "execution_count": 61,
     "metadata": {},
     "output_type": "execute_result"
    }
   ],
   "source": [
    "data = {'name': ['Ram', 'Shyam'], 'age': [89, 78], 'add': ['Kathmandu', 'kathmandu']}\n",
    "del data['name'][0]\n",
    "del data['age'][0]\n",
    "del data['add'][0]\n",
    "data"
   ]
  },
  {
   "cell_type": "code",
   "execution_count": null,
   "id": "d7224c4b",
   "metadata": {},
   "outputs": [],
   "source": [
    "#WAP for CRUD operation"
   ]
  },
  {
   "cell_type": "code",
   "execution_count": null,
   "id": "1c54e1a2",
   "metadata": {},
   "outputs": [],
   "source": [
    "# data = {'name':[],'age':[],'add':[]}\n",
    "# n = int(input('Enter n = '))\n",
    "# for i in range(n):\n",
    "#     name = input('Enter name = ')\n",
    "#     age = int(input('Enter age = '))\n",
    "#     add = (input('Enter add = '))\n",
    "#     data['name'].append(name)\n",
    "#     data['age'].append(age)\n",
    "#     data['add'].append(add)\n",
    "# print(data)"
   ]
  },
  {
   "cell_type": "code",
   "execution_count": 64,
   "id": "d66fb943",
   "metadata": {},
   "outputs": [
    {
     "name": "stdout",
     "output_type": "stream",
     "text": [
      "Enter n = 2\n",
      "Enter name = ram\n",
      "Enter age = 12\n",
      "Enter add = ktm\n",
      "Enter name = shyam\n",
      "Enter age = 23\n",
      "Enter add = bkt\n",
      "[{'name': 'ram', 'age': 12, 'add': 'ktm'}, {'name': 'shyam', 'age': 23, 'add': 'bkt'}]\n"
     ]
    }
   ],
   "source": [
    "data = [] \n",
    "n = int(input('Enter n = '))\n",
    "for i in range(n):\n",
    "    name = input('Enter name = ')\n",
    "    age = int(input('Enter age = '))\n",
    "    add = (input('Enter add = '))\n",
    "    info = {'name':name,'age':age,'add':add}\n",
    "    data.append(info)\n",
    "print(data)"
   ]
  },
  {
   "cell_type": "code",
   "execution_count": 65,
   "id": "9db1d6fc",
   "metadata": {},
   "outputs": [
    {
     "data": {
      "text/plain": [
       "[{'name': 'ram', 'age': 12, 'add': 'ktm'},\n",
       " {'name': 'shyam', 'age': 23, 'add': 'bkt'},\n",
       " {'name': 'ram', 'age': 12, 'add': 'ktm'}]"
      ]
     },
     "execution_count": 65,
     "metadata": {},
     "output_type": "execute_result"
    }
   ],
   "source": [
    "data.append({'name': 'ram', 'age': 12, 'add': 'ktm'})\n",
    "data\n"
   ]
  },
  {
   "cell_type": "code",
   "execution_count": 66,
   "id": "b3e62d2c",
   "metadata": {},
   "outputs": [
    {
     "data": {
      "text/plain": [
       "{'name': 'ram', 'age': 12, 'add': 'ktm'}"
      ]
     },
     "execution_count": 66,
     "metadata": {},
     "output_type": "execute_result"
    }
   ],
   "source": [
    "data[0]"
   ]
  },
  {
   "cell_type": "code",
   "execution_count": 68,
   "id": "fe1271ba",
   "metadata": {},
   "outputs": [
    {
     "data": {
      "text/plain": [
       "[{'name': 'Rama', 'age': 12, 'add': 'ktm'},\n",
       " {'name': 'shyam', 'age': 23, 'add': 'bkt'},\n",
       " {'name': 'ram', 'age': 12, 'add': 'ktm'}]"
      ]
     },
     "execution_count": 68,
     "metadata": {},
     "output_type": "execute_result"
    }
   ],
   "source": [
    "# Update\n",
    "data[0]['name'] = \"Rama\"\n",
    "data"
   ]
  },
  {
   "cell_type": "code",
   "execution_count": 71,
   "id": "a13871ac",
   "metadata": {},
   "outputs": [
    {
     "data": {
      "text/plain": [
       "[{'name': 'Rama', 'age': 12, 'add': 'ktm'},\n",
       " {'name': 'shyam', 'age': 23, 'add': 'bkt'},\n",
       " {'name': 'ram', 'age': 12}]"
      ]
     },
     "execution_count": 71,
     "metadata": {},
     "output_type": "execute_result"
    }
   ],
   "source": [
    "# Delete\n",
    "del data[2]['add']\n",
    "data"
   ]
  },
  {
   "cell_type": "code",
   "execution_count": null,
   "id": "3c8eac27",
   "metadata": {},
   "outputs": [],
   "source": [
    "    ################################################"
   ]
  },
  {
   "cell_type": "code",
   "execution_count": 72,
   "id": "b8c20ca3",
   "metadata": {},
   "outputs": [
    {
     "name": "stdout",
     "output_type": "stream",
     "text": [
      "{1: {'name': 'Rama', 'age': 12, 'add': 'ktm'}, 2: {'name': 'shyam', 'age': 23, 'add': 'bkt'}, 3: {'name': 'Ram', 'age': 56, 'add': 'ktm'}}\n"
     ]
    }
   ],
   "source": [
    "# dict inside dict\n",
    "data = {1:{'name': 'Rama', 'age': 12, 'add': 'ktm'},\n",
    "       2:{'name': 'shyam', 'age': 23, 'add': 'bkt'},\n",
    "       3:{'name': 'Ram', 'age': 56, 'add': 'ktm'}}\n",
    "print(data)"
   ]
  },
  {
   "cell_type": "code",
   "execution_count": 73,
   "id": "905a5554",
   "metadata": {},
   "outputs": [
    {
     "name": "stdout",
     "output_type": "stream",
     "text": [
      "Enter n = 2\n",
      "Enter name = ram\n",
      "Enter age = 78\n",
      "Enter add = ktm\n",
      "Enter name = Shyaam\n",
      "Enter age = 67\n",
      "Enter add = BKT\n",
      "{1: {'name': 'ram', 'age': 78, 'add': 'ktm'}, 2: {'name': 'Shyaam', 'age': 67, 'add': 'BKT'}}\n"
     ]
    }
   ],
   "source": [
    "data = {} \n",
    "n = int(input('Enter n = '))\n",
    "for i in range(1,n+1):\n",
    "    name = input('Enter name = ')\n",
    "    age = int(input('Enter age = '))\n",
    "    add = (input('Enter add = '))\n",
    "    info = {'name':name,'age':age,'add':add}\n",
    "    data[i] = info\n",
    "print(data)"
   ]
  },
  {
   "cell_type": "code",
   "execution_count": 74,
   "id": "7d5862e1",
   "metadata": {},
   "outputs": [
    {
     "data": {
      "text/plain": [
       "{1: {'name': 'ram', 'age': 78, 'add': 'ktm'},\n",
       " 2: {'name': 'Shyaam', 'age': 67, 'add': 'BKT'}}"
      ]
     },
     "execution_count": 74,
     "metadata": {},
     "output_type": "execute_result"
    }
   ],
   "source": [
    "data"
   ]
  },
  {
   "cell_type": "code",
   "execution_count": 75,
   "id": "46a22c2a",
   "metadata": {},
   "outputs": [
    {
     "data": {
      "text/plain": [
       "{1: {'name': 'ram', 'age': 78, 'add': 'ktm'},\n",
       " 2: {'name': 'Shyaam', 'age': 67, 'add': 'BKT'},\n",
       " 3: {'name': 'ram', 'age': 23, 'add': 'ktm'}}"
      ]
     },
     "execution_count": 75,
     "metadata": {},
     "output_type": "execute_result"
    }
   ],
   "source": [
    "data[3] = {'name': 'ram', 'age': 23, 'add': 'ktm'}\n",
    "data"
   ]
  },
  {
   "cell_type": "code",
   "execution_count": 80,
   "id": "3ce37d8c",
   "metadata": {},
   "outputs": [
    {
     "name": "stdout",
     "output_type": "stream",
     "text": [
      "Enter phoneram12345\n",
      "Enter phoneShyaam54321\n",
      "Enter phoneram56789\n"
     ]
    }
   ],
   "source": [
    "# Adding new key\n",
    "data = {1: {'name': 'ram', 'age': 78, 'add': 'ktm'},\n",
    "        2: {'name': 'Shyaam', 'age': 67, 'add': 'BKT'},\n",
    "        3: {'name': 'ram', 'age': 23, 'add': 'ktm'}}\n",
    "for i in data:\n",
    "    phone = input(f\"Enter phone{ data[i]['name']}\")\n",
    "    data[i][\"phone\"] = phone\n",
    "                  "
   ]
  },
  {
   "cell_type": "code",
   "execution_count": 81,
   "id": "4cdb3741",
   "metadata": {},
   "outputs": [
    {
     "data": {
      "text/plain": [
       "{1: {'name': 'ram', 'age': 78, 'add': 'ktm', 'phone': '12345'},\n",
       " 2: {'name': 'Shyaam', 'age': 67, 'add': 'BKT', 'phone': '54321'},\n",
       " 3: {'name': 'ram', 'age': 23, 'add': 'ktm', 'phone': '56789'}}"
      ]
     },
     "execution_count": 81,
     "metadata": {},
     "output_type": "execute_result"
    }
   ],
   "source": [
    "data"
   ]
  },
  {
   "cell_type": "code",
   "execution_count": null,
   "id": "1bc13a42",
   "metadata": {},
   "outputs": [],
   "source": []
  },
  {
   "cell_type": "code",
   "execution_count": 77,
   "id": "92af6f36",
   "metadata": {},
   "outputs": [
    {
     "data": {
      "text/plain": [
       "{1: {'name': 'Ramaaa', 'age': 78, 'add': 'ktm', 'Shyaam': 'Ramaaa'},\n",
       " 2: {'name': 'Shyaam', 'age': 67, 'add': 'BKT'},\n",
       " 3: {'name': 'ram', 'age': 23, 'add': 'ktm'}}"
      ]
     },
     "execution_count": 77,
     "metadata": {},
     "output_type": "execute_result"
    }
   ],
   "source": [
    "#update\n",
    "data[1][\"name\"] = 'Ramaaa'\n",
    "data"
   ]
  },
  {
   "cell_type": "code",
   "execution_count": 99,
   "id": "6d25a47c",
   "metadata": {},
   "outputs": [
    {
     "name": "stdout",
     "output_type": "stream",
     "text": [
      "Enter n = 1\n",
      "Enter name = qw\n",
      "Enter age = 1\n",
      "Enter add = as\n",
      "[{'name': 'qw', 'age': 1, 'add': 'as'}]\n",
      "Type 'x' to add data,Type 'y'to update data,Type 'z to delete data,Type 'q' to quit : y\n",
      "Enter which data to update : name\n",
      "Enter line no1\n"
     ]
    },
    {
     "ename": "KeyError",
     "evalue": "'qw'",
     "output_type": "error",
     "traceback": [
      "\u001b[0;31m---------------------------------------------------------------------------\u001b[0m",
      "\u001b[0;31mKeyError\u001b[0m                                  Traceback (most recent call last)",
      "\u001b[0;32m/var/folders/dl/hl83x6dn27scsgpl8yqkmgyh0000gp/T/ipykernel_4199/2232677582.py\u001b[0m in \u001b[0;36m<module>\u001b[0;34m\u001b[0m\n\u001b[1;32m     19\u001b[0m     \u001b[0mg\u001b[0m \u001b[0;34m=\u001b[0m \u001b[0mint\u001b[0m\u001b[0;34m(\u001b[0m\u001b[0minput\u001b[0m\u001b[0;34m(\u001b[0m\u001b[0;34m\"Enter line no\"\u001b[0m\u001b[0;34m)\u001b[0m\u001b[0;34m)\u001b[0m\u001b[0;34m\u001b[0m\u001b[0;34m\u001b[0m\u001b[0m\n\u001b[1;32m     20\u001b[0m     \u001b[0;32mif\u001b[0m \u001b[0mc\u001b[0m \u001b[0;34m==\u001b[0m\u001b[0;34m'name'\u001b[0m\u001b[0;34m:\u001b[0m\u001b[0;34m\u001b[0m\u001b[0;34m\u001b[0m\u001b[0m\n\u001b[0;32m---> 21\u001b[0;31m         \u001b[0mname\u001b[0m \u001b[0;34m=\u001b[0m \u001b[0;34mf\" Enter name {data[i][name]}\"\u001b[0m\u001b[0;34m\u001b[0m\u001b[0;34m\u001b[0m\u001b[0m\n\u001b[0m\u001b[1;32m     22\u001b[0m         \u001b[0mdata\u001b[0m\u001b[0;34m[\u001b[0m\u001b[0mi\u001b[0m\u001b[0;34m]\u001b[0m\u001b[0;34m[\u001b[0m\u001b[0mname\u001b[0m\u001b[0;34m]\u001b[0m \u001b[0;34m=\u001b[0m \u001b[0mname\u001b[0m\u001b[0;34m\u001b[0m\u001b[0;34m\u001b[0m\u001b[0m\n\u001b[1;32m     23\u001b[0m     \u001b[0;32mif\u001b[0m \u001b[0mc\u001b[0m \u001b[0;34m==\u001b[0m \u001b[0;34m'age'\u001b[0m\u001b[0;34m:\u001b[0m\u001b[0;34m\u001b[0m\u001b[0;34m\u001b[0m\u001b[0m\n",
      "\u001b[0;31mKeyError\u001b[0m: 'qw'"
     ]
    }
   ],
   "source": [
    "data = [] \n",
    "n = int(input('Enter n = '))\n",
    "for i in range(n):\n",
    "    name = input('Enter name = ')\n",
    "    age = int(input('Enter age = '))\n",
    "    add = (input('Enter add = '))\n",
    "    info = {'name':name,'age':age,'add':add}\n",
    "    data.append(info)\n",
    "print(data)\n",
    "\n",
    "a = input(\"Type 'x' to add data,Type 'y'to update data,Type 'z to delete data,Type 'q' to quit : \")\n",
    "if  a == 'x':\n",
    "    data = f\" Enter name {data[i][name]}, Enter age {data[i][age]},Enter add{data[i][add]}\"\n",
    "    data[i] = data\n",
    "    \n",
    "\n",
    "if a == 'y':\n",
    "    c = input('Enter which data to update : ')\n",
    "    f = int(input(\"Enter line no\"))\n",
    "    g = f-1\n",
    "    if c =='name':\n",
    "        name = f\" Enter name {data[i][name]}\"\n",
    "        data[g][name] = name\n",
    "    if c == 'age':\n",
    "        age =f\"Enter age {data[i][age]}\"\n",
    "        data[g][age] = age\n",
    "        \n",
    "    if c == 'add':\n",
    "        add = f\" Enter add {data[i][add]}\"\n",
    "        data[g][add]= add\n",
    "#if a == 'z':\n",
    "     \n",
    "    #del data[][] = \n",
    "else:\n",
    "    print('Invalid')"
   ]
  },
  {
   "cell_type": "code",
   "execution_count": null,
   "id": "8580a6f7",
   "metadata": {},
   "outputs": [],
   "source": []
  },
  {
   "cell_type": "code",
   "execution_count": 100,
   "id": "8b067772",
   "metadata": {},
   "outputs": [
    {
     "data": {
      "text/plain": [
       "9"
      ]
     },
     "execution_count": 100,
     "metadata": {},
     "output_type": "execute_result"
    }
   ],
   "source": [
    "d = 10\n",
    "g = d-1\n",
    "g"
   ]
  },
  {
   "cell_type": "code",
   "execution_count": null,
   "id": "e9272f5e",
   "metadata": {},
   "outputs": [],
   "source": []
  }
 ],
 "metadata": {
  "kernelspec": {
   "display_name": "Python 3 (ipykernel)",
   "language": "python",
   "name": "python3"
  },
  "language_info": {
   "codemirror_mode": {
    "name": "ipython",
    "version": 3
   },
   "file_extension": ".py",
   "mimetype": "text/x-python",
   "name": "python",
   "nbconvert_exporter": "python",
   "pygments_lexer": "ipython3",
   "version": "3.9.13"
  }
 },
 "nbformat": 4,
 "nbformat_minor": 5
}
