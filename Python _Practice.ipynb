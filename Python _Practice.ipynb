{
 "cells": [
  {
   "cell_type": "code",
   "execution_count": null,
   "id": "c120c469",
   "metadata": {},
   "outputs": [],
   "source": [
    "# if/else.   elif\n"
   ]
  },
  {
   "cell_type": "code",
   "execution_count": null,
   "id": "dff72190",
   "metadata": {},
   "outputs": [],
   "source": []
  },
  {
   "cell_type": "code",
   "execution_count": null,
   "id": "34496519",
   "metadata": {},
   "outputs": [],
   "source": [
    "#  if <condition>:\n",
    "#     <operation>\n",
    "# elif < "
   ]
  },
  {
   "cell_type": "code",
   "execution_count": null,
   "id": "8c2bca50",
   "metadata": {},
   "outputs": [],
   "source": [
    "a=int(input(\"Enter a = \"))\n",
    "if a>0:\n",
    "   print(a,\"is +ve value\")\n",
    "else:\n",
    "     print(a,\"is -ve value\")\n",
    "     "
   ]
  },
  {
   "cell_type": "code",
   "execution_count": null,
   "id": "40fdaee8",
   "metadata": {},
   "outputs": [],
   "source": [
    "a = int(input(\"Enter a = \"))\n",
    "if a%2==0:\n",
    "print(a,\"is even no\")\n",
    "else:\n",
    "print(a,\"is odd no\")\n"
   ]
  },
  {
   "cell_type": "code",
   "execution_count": null,
   "id": "3ce1a792",
   "metadata": {},
   "outputs": [],
   "source": [
    "a= int(input(\"Enter a = \")\n",
    "b = int(input(\"Enter b = \"))\n",
    "if a>b:\n"
   ]
  },
  {
   "cell_type": "code",
   "execution_count": null,
   "id": "84664046",
   "metadata": {},
   "outputs": [],
   "source": [
    "physics = int(input(\"Enter physics marks = \"))\n",
    "chemistry  = int(input(\"Enter chemistry marks = \"))\n",
    "math = int(input(\"Enter math marks = \"))\n",
    "english = int(input(\"Enter english marks = \"))\n",
    "nepali = int(input(\"Enter nepali marks = \"))\n",
    "\n",
    "total = physics + chemistry + math + english + nepali\n",
    "per = total/5\n",
    "if per > 80 or per==80:\n",
    "  grade = \"A\"\n",
    "elif per >=60:\n",
    "  grade = \"B\"\n",
    "elif per >= 45:\n",
    "  grade = \"C\"\n",
    "else:\n",
    "  grade = \"F\""
   ]
  },
  {
   "cell_type": "markdown",
   "id": "3cf7d076",
   "metadata": {},
   "source": [
    "# Logical operator\n",
    "#or |\n",
    "#and &\n",
    "#not ^\n",
    "\n",
    "#or\n",
    "#True or False -> True\n",
    "and\n",
    "True and False -> False\n",
    "\n"
   ]
  },
  {
   "cell_type": "code",
   "execution_count": null,
   "id": "3a3c6704",
   "metadata": {},
   "outputs": [],
   "source": [
    "True and False"
   ]
  },
  {
   "cell_type": "code",
   "execution_count": null,
   "id": "ef6b7e29",
   "metadata": {},
   "outputs": [],
   "source": [
    "True or False"
   ]
  },
  {
   "cell_type": "code",
   "execution_count": null,
   "id": "529ba489",
   "metadata": {},
   "outputs": [],
   "source": [
    "#\n",
    "n= int(input(\"Enter n = \"))\n",
    "if (n>=0) and (n%2==0):\n",
    "    print(n,\"is +ve and even\")\n",
    "elif (n<=0) and (n%2==0):\n",
    "    print(n,\" is -ve and even\")\n",
    "elif (n<=0) and (n!==0):\n",
    "    print(n,\"is -ve and odd\")\n",
    "else:\n",
    "    print(n,\"is +ve and odd\")\n"
   ]
  },
  {
   "cell_type": "markdown",
   "id": "6c707daf",
   "metadata": {},
   "source": []
  },
  {
   "cell_type": "code",
   "execution_count": null,
   "id": "cbdab093",
   "metadata": {},
   "outputs": [],
   "source": [
    "a = int(input(\"Enter value a = \"))\n",
    "b = int(input(\"Enter value b = \"))\n",
    "o = input(\"Enter + - * / \")\n",
    "if o==\"+\":\n",
    "  print(a+b)\n",
    "elif o==\"-\":\n",
    "  print(a-b)\n",
    "elif o==\"*\":\n",
    "  print(a*b)\n",
    "elif o==\"/\" and b!=0:\n",
    "  print(a/b)\n",
    "else:\n",
    "  print(\"Invalid operator\")"
   ]
  },
  {
   "cell_type": "code",
   "execution_count": null,
   "id": "45b6c108",
   "metadata": {},
   "outputs": [],
   "source": []
  },
  {
   "cell_type": "code",
   "execution_count": null,
   "id": "167d4dfe",
   "metadata": {},
   "outputs": [],
   "source": [
    "#Nested if statement\n",
    "if<condition>:\n",
    "    if<condition>:\n",
    "        <operation>\n",
    "    else:\n",
    "        <operantion>\n",
    "else <condition>:\n",
    "    <operation>\n"
   ]
  },
  {
   "cell_type": "code",
   "execution_count": null,
   "id": "5fc6e89c",
   "metadata": {},
   "outputs": [],
   "source": [
    "a = int(input(\"Enter value a = \"))\n",
    "\n",
    "if a>=0:\n",
    "    if a>=0:\n",
    "        print(a,\"is +ve and even\")\n",
    "    else:\n",
    "        print(a,\"is +ve and odd\")\n",
    "else:\n",
    "    if a%2==0:\n",
    "        print(a,\"is -ve and even\")\n",
    "    else:\n",
    "        print(a,\"is -ve and odd\")"
   ]
  },
  {
   "cell_type": "code",
   "execution_count": null,
   "id": "e2e742bb",
   "metadata": {},
   "outputs": [],
   "source": [
    "#for loop\n",
    "\n",
    "#range(5) #for(i=0;i<5,i++)\n",
    "#range(1,5) #for(i=1;i<5,i++)\n",
    "#range(1,10,2) #for(i=0;i<5,I=i+2)\n",
    "#in isa an operator\n",
    "\n",
    "for i in range(1,5):\n",
    "    print(i,\"Hello\")"
   ]
  },
  {
   "cell_type": "markdown",
   "id": "88a2875f",
   "metadata": {},
   "source": [
    "## "
   ]
  },
  {
   "cell_type": "code",
   "execution_count": null,
   "id": "9354db36",
   "metadata": {},
   "outputs": [],
   "source": [
    "for i in range(5,-1,-1):\n",
    "    print(i,\"Hello\")"
   ]
  },
  {
   "cell_type": "code",
   "execution_count": null,
   "id": "3a3c1be3",
   "metadata": {},
   "outputs": [],
   "source": [
    "for i in range(5,-1,-2):\n",
    "    print(i,\"Hello\")"
   ]
  },
  {
   "cell_type": "code",
   "execution_count": null,
   "id": "67819be1",
   "metadata": {},
   "outputs": [],
   "source": [
    "for i in range(1,6):\n",
    "    print(5*i)\n"
   ]
  },
  {
   "cell_type": "code",
   "execution_count": null,
   "id": "71505a5e",
   "metadata": {},
   "outputs": [],
   "source": [
    "n=int(input(\"Enter value = \"))\n",
    "for i in range(1,6,2):\n",
    "    print(n*i)"
   ]
  },
  {
   "cell_type": "code",
   "execution_count": null,
   "id": "45181d10",
   "metadata": {},
   "outputs": [],
   "source": [
    "n=int(input(\"Enter value = \"))\n",
    "for i in range(1,6,1):\n",
    "    print(n,\"*\",i,\"=\",n*i)"
   ]
  },
  {
   "cell_type": "code",
   "execution_count": null,
   "id": "a634de00",
   "metadata": {},
   "outputs": [],
   "source": [
    "for i in range(2):\n",
    "    n = int(input(\"Enter n = \"))\n",
    "    print(n)"
   ]
  },
  {
   "cell_type": "code",
   "execution_count": null,
   "id": "a2df3f44",
   "metadata": {},
   "outputs": [],
   "source": [
    "s=0\n",
    "for i in range(5):\n",
    "    n = int(input(\"Enter n = \"))\n",
    "    s = s + n\n",
    "    print(s)"
   ]
  },
  {
   "cell_type": "code",
   "execution_count": null,
   "id": "10661391",
   "metadata": {},
   "outputs": [],
   "source": [
    "s = 0\n",
    "c = int(input(\"Enter c = \"))\n",
    "for i in range(5):\n",
    "    n = int(input(\"Enter n = \"))\n",
    "    s = s + n\n",
    "print(s)"
   ]
  },
  {
   "cell_type": "markdown",
   "id": "0c5c3c67",
   "metadata": {},
   "source": []
  },
  {
   "cell_type": "code",
   "execution_count": null,
   "id": "567a9628",
   "metadata": {},
   "outputs": [],
   "source": [
    "\n",
    "s = str()  #s = \"\"\n",
    "c = int(input(\"Enter c = \"))\n",
    "for i in range(c):\n",
    "    n = input(\"Enter n = \")\n",
    "    s = s +\" \"+ n\n",
    "    print(s)"
   ]
  },
  {
   "cell_type": "code",
   "execution_count": null,
   "id": "f0f12f51",
   "metadata": {},
   "outputs": [],
   "source": [
    "s = str()\n",
    "c = int(input(\"Enter c = \"))\n",
    "for i in range(c):\n",
    "    name = input(\"Enter name :  \")\n",
    "    phone = int(input(\"Enter phone no:  \"))\n",
    "    s = s +name+\" \"+str(phone)+\"\\n\"\n",
    "    print(s)\n",
    "    \n",
    "    "
   ]
  },
  {
   "cell_type": "code",
   "execution_count": null,
   "id": "32cf7910",
   "metadata": {},
   "outputs": [],
   "source": [
    "# 4! = 1*2*3*4\n",
    "i = 1\n",
    "fac = 1\n",
    "for i in range(1,5):\n",
    "    fac = fac*i\n",
    "    print(fac)\n"
   ]
  },
  {
   "cell_type": "code",
   "execution_count": null,
   "id": "5df25547",
   "metadata": {},
   "outputs": [],
   "source": [
    "# 4(sum) = 1+2+3+4\n",
    "add = 0\n",
    "n = int(input(\"Enter value = \"))\n",
    "for i in range(n+1):\n",
    "    add = add+i\n",
    "print(add)\n"
   ]
  },
  {
   "cell_type": "code",
   "execution_count": null,
   "id": "f4db71a5",
   "metadata": {},
   "outputs": [],
   "source": [
    "a = \"Python\"\n",
    "for i in a:\n",
    "    print(i)"
   ]
  },
  {
   "cell_type": "code",
   "execution_count": null,
   "id": "1c65fd0f",
   "metadata": {},
   "outputs": [],
   "source": [
    "a = \"Hello World i am Python\"\n",
    "for i in a:\n",
    "    if i != \" \":\n",
    "        print(i,end = \"\")"
   ]
  },
  {
   "cell_type": "code",
   "execution_count": null,
   "id": "ce2be9e5",
   "metadata": {},
   "outputs": [],
   "source": [
    "a = \"Hello World i am Python\"\n",
    "for i in a:\n",
    "    if i != \"\":\n",
    "        print(i,end = \"\")"
   ]
  },
  {
   "cell_type": "code",
   "execution_count": null,
   "id": "ee3a1824",
   "metadata": {},
   "outputs": [],
   "source": [
    "a = \"Hello World i am Python\"\n",
    "l = len(a)\n",
    "for i in range(l):\n",
    "    if a[i] != \" \":\n",
    "        print(i,a[i],end = \"\")"
   ]
  },
  {
   "cell_type": "code",
   "execution_count": null,
   "id": "a0ed8f2d",
   "metadata": {},
   "outputs": [],
   "source": [
    "a = \"Hello World i am Python\"\n",
    "l = len(a)\n",
    "for i in range(l):\n",
    "    if a[i] != \"\":\n",
    "        print(a[i],end = \"\")"
   ]
  },
  {
   "cell_type": "code",
   "execution_count": 7,
   "id": "d59669e6",
   "metadata": {},
   "outputs": [],
   "source": [
    "#while <condition>:\n",
    "#        <operation>\n",
    "\n",
    "while False:\n",
    "    print(\"Hello World\")"
   ]
  },
  {
   "cell_type": "code",
   "execution_count": null,
   "id": "175960bc",
   "metadata": {},
   "outputs": [],
   "source": [
    "a = 0\n",
    "while a<=5:\n",
    "    print(a)\n",
    "    a = a+0.5"
   ]
  },
  {
   "cell_type": "code",
   "execution_count": null,
   "id": "7d1e4c42",
   "metadata": {},
   "outputs": [],
   "source": [
    "a = 0\n",
    "while a<5:\n",
    "    print(a,\"Hello World\")\n",
    "    a = a+1"
   ]
  },
  {
   "cell_type": "code",
   "execution_count": null,
   "id": "902ad005",
   "metadata": {},
   "outputs": [],
   "source": [
    "a = 1\n",
    "while a<5:\n",
    "    print(\"Hello\")"
   ]
  },
  {
   "cell_type": "code",
   "execution_count": 8,
   "id": "31dde181",
   "metadata": {},
   "outputs": [
    {
     "name": "stdout",
     "output_type": "stream",
     "text": [
      "P Hello World\n",
      "y Hello World\n",
      "t Hello World\n",
      "h Hello World\n",
      "o Hello World\n",
      "n Hello World\n"
     ]
    }
   ],
   "source": [
    "a = \"Python\"\n",
    "for i in a:\n",
    "    print(i,\"Hello World\")"
   ]
  },
  {
   "cell_type": "code",
   "execution_count": null,
   "id": "76c9ded7",
   "metadata": {},
   "outputs": [],
   "source": [
    "a = \"Python Learning\"\n",
    "print(a[2])\n",
    "print(a[0:5])"
   ]
  },
  {
   "cell_type": "code",
   "execution_count": null,
   "id": "9b9c1518",
   "metadata": {},
   "outputs": [],
   "source": [
    "#(1)\n",
    "a = \"\n",
    "a = \"Hello World I am Python\"\n",
    "l = len(a)\n",
    "for i in range(l):\n",
    "    print(a[i],end = \"\")"
   ]
  },
  {
   "cell_type": "code",
   "execution_count": null,
   "id": "f9d728a6",
   "metadata": {},
   "outputs": [],
   "source": [
    "#(2)\n",
    "a = \"Hello World I am Python\"\n",
    "l = len(a)\n",
    "for i in range(l):\n",
    "    print(a[i])"
   ]
  },
  {
   "cell_type": "code",
   "execution_count": null,
   "id": "a8cdc2ef",
   "metadata": {},
   "outputs": [],
   "source": [
    "a = 0\n",
    "while a<=5:\n",
    "    print(a,\"Hello,Hi!\")\n",
    "    a += 1\n",
    "    # a = a+1"
   ]
  },
  {
   "cell_type": "code",
   "execution_count": null,
   "id": "032da4fb",
   "metadata": {},
   "outputs": [],
   "source": [
    "i = 1\n",
    "n = int(input(\"Enter n = \"))\n",
    "while i<=10:\n",
    "    print(n,\"*\",i,\"=\",n*i)\n",
    "    i =i+1"
   ]
  },
  {
   "cell_type": "code",
   "execution_count": null,
   "id": "eb6e72ab",
   "metadata": {},
   "outputs": [],
   "source": [
    "s = 0\n",
    "i = 0\n",
    "c = int(input(\"Enter c = \"))\n",
    "while i<c:\n",
    "    n = int(input(\"Enter n = \"))\n",
    "    s = s + n\n",
    "    i = i+1\n",
    "print(s)"
   ]
  },
  {
   "cell_type": "markdown",
   "id": "27ad061e",
   "metadata": {},
   "source": [
    "# "
   ]
  },
  {
   "cell_type": "code",
   "execution_count": null,
   "id": "e6c7051c",
   "metadata": {},
   "outputs": [],
   "source": [
    "s = str()\n",
    "i = 0\n",
    "all_total = 0\n",
    "c = int(input(\"Enter c = \"))\n",
    "while i<c:\n",
    "  name = input(\"Enter product name = \")\n",
    "  price = int(input(\"Enter price = \"))\n",
    "  quantity = int(input(\"Enter quantity = \"))\n",
    "  total = price * quantity\n",
    "  all_total = all_total + total\n",
    "  s = s +\"Name = \"+name+\" \"+\"Price = Rs.\"+str(price)+\" \"+\"Quantity = \"+str(quantity)+\" \"+str(total)+\"\\n\"\n",
    "  i = i+1\n",
    "\n",
    "print(\" Bhaktapur Mart\")\n",
    "print(s)\n",
    "print(\"All total = \",all_total)"
   ]
  },
  {
   "cell_type": "code",
   "execution_count": null,
   "id": "126d21ce",
   "metadata": {},
   "outputs": [],
   "source": [
    "fac = 0\n",
    "i = 1\n",
    "n = int(input(\"Enter n = \"))\n",
    "while i<=n:\n",
    "    fac = fac+1\n",
    "    i = i +1"
   ]
  },
  {
   "cell_type": "code",
   "execution_count": null,
   "id": "86b2c824",
   "metadata": {},
   "outputs": [],
   "source": [
    "a = \"Python\"\n",
    "l = len(a)\n",
    "i = 0\n",
    "while i<l:\n",
    "    print(a[i])\n",
    "    i=i+1"
   ]
  },
  {
   "cell_type": "code",
   "execution_count": null,
   "id": "f81cb390",
   "metadata": {},
   "outputs": [],
   "source": [
    "a = \"Hello World I am Python\"\n",
    "l = len(a)\n",
    "i = 0\n",
    "while i<l:\n",
    "    if a[i]!= \" \":\n",
    "        print(a[i],end =\"\")\n",
    "    i=i+1\n",
    "    "
   ]
  },
  {
   "cell_type": "code",
   "execution_count": null,
   "id": "73753652",
   "metadata": {},
   "outputs": [],
   "source": []
  },
  {
   "cell_type": "code",
   "execution_count": null,
   "id": "ec33246f",
   "metadata": {},
   "outputs": [],
   "source": [
    "for i in range(10):\n",
    "    if i == 5:\n",
    "        break\n",
    "    print(i)\n"
   ]
  },
  {
   "cell_type": "code",
   "execution_count": null,
   "id": "9efb6ed5",
   "metadata": {},
   "outputs": [],
   "source": [
    "for i in range(10):\n",
    "    if i == 5:\n",
    "        print(i)\n",
    "        break\n",
    "    print(i)"
   ]
  },
  {
   "cell_type": "code",
   "execution_count": null,
   "id": "ced0f6f3",
   "metadata": {},
   "outputs": [],
   "source": [
    "for i in range(10):\n",
    "    if i == 5:\n",
    "        continue\n",
    "    print(i)"
   ]
  },
  {
   "cell_type": "code",
   "execution_count": null,
   "id": "cb1cc929",
   "metadata": {},
   "outputs": [],
   "source": [
    "a = \"Hello World  I am Python\"\n",
    "for i in a:\n",
    "    if i == \" \":\n",
    "        break\n",
    "    else:\n",
    "        print(i,end =\"\")"
   ]
  },
  {
   "cell_type": "code",
   "execution_count": null,
   "id": "e11311cc",
   "metadata": {},
   "outputs": [],
   "source": [
    "a = \"Hello World  I am Python\"\n",
    "for i in a:\n",
    "    if i == \" \":\n",
    "        continue\n",
    "    else:\n",
    "        print(i,end =\"\")"
   ]
  },
  {
   "cell_type": "code",
   "execution_count": null,
   "id": "50bb3690",
   "metadata": {},
   "outputs": [],
   "source": [
    "a = \"Hello World  I am Python\"\n",
    "i = 0\n",
    "while i<len(a):\n",
    "    if a[i] == \" \":\n",
    "        break\n",
    "    else:\n",
    "        print(a[i],end =\"\")\n",
    "    i = i + 1"
   ]
  },
  {
   "cell_type": "code",
   "execution_count": null,
   "id": "f1f660fc",
   "metadata": {},
   "outputs": [],
   "source": [
    "a = \"Hello World  I am Python\"\n",
    "i = 0\n",
    "while i<len(a):\n",
    "    if a[i] == \" \":\n",
    "        i = i+1\n",
    "        continue\n",
    "    else:\n",
    "        print(a[i],end =\"\")\n",
    "    i = i + 1"
   ]
  },
  {
   "cell_type": "code",
   "execution_count": null,
   "id": "16bdb2a8",
   "metadata": {},
   "outputs": [],
   "source": [
    "a = \"Hello World I am Python\"\n",
    "print(a[0])\n",
    "print(a[0:5])\n",
    "print(a[0:10:2])"
   ]
  },
  {
   "cell_type": "code",
   "execution_count": null,
   "id": "c93b32c4",
   "metadata": {},
   "outputs": [],
   "source": [
    "a = \"Hello World I am Python\"\n",
    "print(a[-1:0:-1])\n",
    "print(a[-1::-1])\n",
    "print(a[::-1])"
   ]
  },
  {
   "cell_type": "code",
   "execution_count": null,
   "id": "dc4d2d1f",
   "metadata": {},
   "outputs": [],
   "source": [
    "#a = 202\n",
    "a = input(\"Enter first value = \")\n",
    "if a == a[::-1]:\n",
    "    print(\"This number is palendrome\")\n",
    "else:\n",
    "    print(\"This number is not palendrome\")"
   ]
  },
  {
   "cell_type": "code",
   "execution_count": null,
   "id": "a415ebb9",
   "metadata": {},
   "outputs": [],
   "source": [
    "s = str()\n",
    "i = 0\n",
    "all_total = 0\n",
    "c = int(input(\"Enter c = \"))\n",
    "while i<c:\n",
    "  name = input(\"Enter product name = \")\n",
    "  price = int(input(\"Enter price = \"))\n",
    "  quantity = int(input(\"Enter quantity = \"))\n",
    "  total = price * quantity\n",
    "  all_total = all_total + total\n",
    "  s = s +f\"{name} {price} {quantity} {total}\\n\"\n",
    "  i = i+1\n",
    "\n",
    "\n",
    "print(s)\n",
    "print(\"All total = \",all_total)"
   ]
  },
  {
   "cell_type": "code",
   "execution_count": null,
   "id": "c30dc837",
   "metadata": {},
   "outputs": [],
   "source": []
  },
  {
   "cell_type": "code",
   "execution_count": null,
   "id": "2cc8d74a",
   "metadata": {},
   "outputs": [],
   "source": [
    "#string formatting\n",
    "name = \"Ram\"\n",
    "age = 23\n",
    "info = f\"Hello World I am {name} I am {age} years old.\"\n",
    "print(info)"
   ]
  },
  {
   "cell_type": "code",
   "execution_count": null,
   "id": "45f732ed",
   "metadata": {},
   "outputs": [],
   "source": [
    "#name = \"Ram\"\n",
    "#age = 23\n",
    "info = f\"Hello World I am {input('Enter Name : ')} I am {input('Enter Age : ')} years old.\"\n",
    "print(info)"
   ]
  },
  {
   "cell_type": "code",
   "execution_count": null,
   "id": "caeeb534",
   "metadata": {},
   "outputs": [],
   "source": [
    "s = str()\n",
    "n = int(input(\"Enter  n : \"))\n",
    "for i in range(n):\n",
    "    name = input(\"Enter name = \")\n",
    "    s = s +f\"{name} \"\n",
    "print(s)"
   ]
  },
  {
   "cell_type": "code",
   "execution_count": null,
   "id": "8aafc438",
   "metadata": {},
   "outputs": [],
   "source": [
    "s = \"Ram Shyam Hari Sita Rita\".lower()\n",
    "name = input('Enter name = ').lower()\n",
    "if name in s:\n",
    "    print(\"Yes\")\n",
    "    print(s.count(name))\n",
    "else:\n",
    "    print('No')"
   ]
  },
  {
   "cell_type": "code",
   "execution_count": null,
   "id": "e18ef35a",
   "metadata": {},
   "outputs": [],
   "source": [
    "#repalce()\n",
    "a = \"Ram Shyam Hari Sita Rita\"\n",
    "a = a.replace('Ram','ram')\n",
    "print(a)"
   ]
  },
  {
   "cell_type": "code",
   "execution_count": null,
   "id": "fa06d804",
   "metadata": {},
   "outputs": [],
   "source": [
    "a = \"Ram Shyam Hari Sita Rita\"\n",
    "a.split()\n",
    "print(a)"
   ]
  },
  {
   "cell_type": "code",
   "execution_count": null,
   "id": "c3f6ab9a",
   "metadata": {},
   "outputs": [],
   "source": [
    "#repalce()\n",
    "a = \"Ram Shyam Hari Sita Rita\"\n",
    "initial = input(\"Search name = \")\n",
    "final = input(\"Enter name for Replace = \")\n",
    "a = a.replace(initial,final)\n",
    "print(a)"
   ]
  },
  {
   "cell_type": "code",
   "execution_count": null,
   "id": "cf4526a6",
   "metadata": {},
   "outputs": [],
   "source": [
    "a = [\"Apple\",\"Ball\",\"Cat\",\"Dog\",\"Fish\"]\n",
    "b = list()\n",
    "print(type(a))\n",
    "print(type(b))\n",
    "\n"
   ]
  },
  {
   "cell_type": "code",
   "execution_count": null,
   "id": "83459588",
   "metadata": {},
   "outputs": [],
   "source": [
    "a = [\"Apple\",\"Ball\",\"Cat\",\"Dog\",\"Fish\"]\n",
    "b = [2,4,5,6,2,4,6]\n",
    "c = a+b\n",
    "print(c)"
   ]
  },
  {
   "cell_type": "code",
   "execution_count": null,
   "id": "126ff68b",
   "metadata": {},
   "outputs": [],
   "source": [
    "l = []\n",
    "n = int(input(\"Enterr n = \"))\n",
    "for i in range(n):\n",
    "    x = input(\"Enter x = \")\n",
    "    l = l+[x]\n",
    "print(l)"
   ]
  },
  {
   "cell_type": "code",
   "execution_count": null,
   "id": "e7d20d7a",
   "metadata": {},
   "outputs": [],
   "source": [
    "a = [\"Apple\",\"Ball\",\"Cat\",\"Dog\",\"Fish\"]\n",
    "l = len(a)\n",
    "for z in range(l):\n",
    "    print(z,a[z])"
   ]
  },
  {
   "cell_type": "code",
   "execution_count": null,
   "id": "3af99121",
   "metadata": {},
   "outputs": [],
   "source": [
    "l = []\n",
    "n = int(input(\"Enterr n = \"))\n",
    "for i in range(n):\n",
    "    x = int(input(\"Enter x = \"))\n",
    "    l = l+[x]\n",
    "print(l)"
   ]
  },
  {
   "cell_type": "markdown",
   "id": "02813003",
   "metadata": {},
   "source": []
  },
  {
   "cell_type": "code",
   "execution_count": null,
   "id": "3f9cf08b",
   "metadata": {},
   "outputs": [],
   "source": [
    "print(\"The max value of l = \",max(l))\n",
    "print(\"The min value of l = \",min(l))\n",
    "print(\"The sum  of l = \",sum(l))\n",
    "print(\"The avg value of l = \",sum(l)/n)\n",
    "l.sort()\n",
    "print(l)\n",
    "l.reverse()\n",
    "print(l)"
   ]
  },
  {
   "cell_type": "code",
   "execution_count": null,
   "id": "8516eac9",
   "metadata": {},
   "outputs": [],
   "source": [
    "#input data\n",
    "#append()  insert() extend()\n",
    "\n",
    "#delete data\n",
    "#del remove() pop()\n",
    "\n",
    "#Update date\n"
   ]
  },
  {
   "cell_type": "code",
   "execution_count": null,
   "id": "64723314",
   "metadata": {},
   "outputs": [],
   "source": [
    "a = [\"Apple\",\"Ball\",\"Cat\",\"Dog\",\"Fish\"]\n",
    "a.append('Goat')\n",
    "print(a)"
   ]
  },
  {
   "cell_type": "code",
   "execution_count": null,
   "id": "c1310819",
   "metadata": {},
   "outputs": [],
   "source": [
    "l = []\n",
    "n = int(input(\"Enterr n = \"))\n",
    "for i in range(n):\n",
    "    x = input(\"Enter x = \")\n",
    "    l = l+[x]\n",
    "print(l)"
   ]
  },
  {
   "cell_type": "code",
   "execution_count": null,
   "id": "e2d5a677",
   "metadata": {},
   "outputs": [],
   "source": [
    "#update\n",
    "a = [\"Apple\",\"Ball\",\"Cat\",\"Dog\",\"Fish\"]\n",
    "a[1] = 'ball'\n",
    "print(a)"
   ]
  },
  {
   "cell_type": "code",
   "execution_count": null,
   "id": "08290e94",
   "metadata": {},
   "outputs": [],
   "source": [
    "a = [\"Apple\",\"Ball\",\"Cat\",\"Dog\",\"Fish\"]\n",
    "b = [2,4,5,6,2,4,6]\n",
    "a.extend(b)\n",
    "print(a)"
   ]
  },
  {
   "cell_type": "code",
   "execution_count": null,
   "id": "00ddb314",
   "metadata": {},
   "outputs": [],
   "source": [
    "#del\n",
    "a = [\"Apple\",\"Ball\",\"Cat\",\"Dog\",\"Fish\",\"apple\",2,4,5,6,2,4,6]\n",
    "del a[0:5]\n",
    "print(a)"
   ]
  },
  {
   "cell_type": "code",
   "execution_count": null,
   "id": "bfb9c4d4",
   "metadata": {},
   "outputs": [],
   "source": [
    "a = [\"Apple\",\"Ball\",\"Cat\",\"Dog\",\"Fish\",\"apple\",2,4,5,6,2,4,6]\n",
    "a.remove('Ball')\n",
    "a"
   ]
  },
  {
   "cell_type": "code",
   "execution_count": null,
   "id": "456ff118",
   "metadata": {},
   "outputs": [],
   "source": [
    "a = [\"Apple\",\"Ball\",\"Cat\",\"Dog\",\"Fish\",\"Apple\",2,4,5,6,2,4,6]\n",
    "a.remove('Apple')\n",
    "a"
   ]
  },
  {
   "cell_type": "code",
   "execution_count": null,
   "id": "8491739d",
   "metadata": {},
   "outputs": [],
   "source": [
    "#remove\n",
    "a = [\"Apple\",\"Ball\",\"Cat\",\"Dog\",\"Fish\",\"Apple\",2,4,5,6,2,4,6]\n",
    "l = a.count('Apple')\n",
    "print(l)\n",
    "for i in range (l):\n",
    "    a.remove(\"Apple\")\n",
    "a"
   ]
  },
  {
   "cell_type": "code",
   "execution_count": null,
   "id": "fe23159c",
   "metadata": {},
   "outputs": [],
   "source": [
    "a = [\"Apple\",\"Ball\",\"Cat\",\"Dog\",\"Fish\",\"Apple\",2,4,5,6,2,4,6]\n",
    "b = a.pop(1)\n",
    "print(a)\n",
    "print(b)"
   ]
  },
  {
   "cell_type": "code",
   "execution_count": null,
   "id": "20662392",
   "metadata": {},
   "outputs": [],
   "source": [
    "a = [\"Apple\",\"Ball\",\"Cat\",\"Dog\",\"Fish\",\"Apple\",2,4,5,6,2,4,6]\n",
    "a.index(\"Apple\")\n"
   ]
  },
  {
   "cell_type": "code",
   "execution_count": null,
   "id": "f7059c08",
   "metadata": {},
   "outputs": [],
   "source": [
    "a = [\"Apple\",\"Ball\",\"Cat\",\"Dog\",\"Fish\",\"Apple\",2,4,5,6,2,4,6]\n",
    "l = len(a)\n",
    "for i in range(l):\n",
    "    if a[i] == 'Apple':\n",
    "        print(i,a[i])"
   ]
  },
  {
   "cell_type": "code",
   "execution_count": null,
   "id": "58ec1c5a",
   "metadata": {},
   "outputs": [],
   "source": [
    "a = [[1,2,3],\n",
    "     [4,5,6],\n",
    "     [7,8,9]]"
   ]
  },
  {
   "cell_type": "code",
   "execution_count": null,
   "id": "4dcc8f23",
   "metadata": {},
   "outputs": [],
   "source": [
    "a = [['Ram',34,'Kathmandu'],\n",
    "    ['Shyam',45,'Lalitpur'],\n",
    "    ['Hari',67,'Bhaktapur']]\n",
    "print(a)\n",
    "print(a[0])\n",
    "print(a[0][0])\n",
    "print(len(a))"
   ]
  },
  {
   "cell_type": "code",
   "execution_count": null,
   "id": "3286e65c",
   "metadata": {},
   "outputs": [],
   "source": [
    "a = [['Ram',34,'Kathmandu'],\n",
    "    ['Shyam',45,'Lalitpur'],\n",
    "    ['Hari',67,'Bhaktapur']]\n",
    "b = [['Nabin',67,'Bara']]\n",
    "c = a+b\n",
    "\n",
    "print(c)\n",
    "\n",
    "print(a)\n",
    "print(c[0])\n",
    "print(c[0][0])\n",
    "print(len(c))"
   ]
  },
  {
   "cell_type": "code",
   "execution_count": null,
   "id": "666856f3",
   "metadata": {},
   "outputs": [],
   "source": [
    "info = []\n",
    "n = int(input('Enter n = '))\n",
    "for i in range(n):\n",
    "    name = input(\"Enter name = \")\n",
    "    age = int(input(\"Enter age = \"))\n",
    "    add = input(\"Enter add = \")\n",
    "    info.append([name,age,add])\n",
    "print(info)"
   ]
  },
  {
   "cell_type": "code",
   "execution_count": null,
   "id": "ba3e2ac3",
   "metadata": {},
   "outputs": [],
   "source": [
    "for i in info:\n",
    "    if 'shyam'in i:\n",
    "        print(i)"
   ]
  },
  {
   "cell_type": "code",
   "execution_count": null,
   "id": "6e3f7530",
   "metadata": {},
   "outputs": [],
   "source": [
    "name = input('Enter name for search = ')\n",
    "for i in info:\n",
    "    if name in i:\n",
    "        print(i)"
   ]
  },
  {
   "cell_type": "code",
   "execution_count": null,
   "id": "f5175482",
   "metadata": {},
   "outputs": [],
   "source": [
    "name = input('Enter name for search = ')\n",
    "for i in info:\n",
    "    if name.lower() in i[0].lower():\n",
    "        print(i)"
   ]
  },
  {
   "cell_type": "code",
   "execution_count": null,
   "id": "48f09e1c",
   "metadata": {},
   "outputs": [],
   "source": [
    "# del  remove()    pop()\n",
    "a = [['Ram',34,'Kathmandu'],\n",
    "    ['Shyam',45,'Lalitpur'],\n",
    "    ['Hari',67,'Bhaktapur']]\n",
    "del a[0][0]\n",
    "print(a)\n"
   ]
  },
  {
   "cell_type": "code",
   "execution_count": null,
   "id": "47d29cbb",
   "metadata": {},
   "outputs": [],
   "source": [
    "#Update\n",
    "a = [['Ram',34,'Kathmandu'],\n",
    "    ['Shyam',45,'Lalitpur'],\n",
    "    ['Hari',67,'Bhaktapur']]\n",
    "a[0] = ['Ramaa',70,'Jhapa']\n",
    "a"
   ]
  },
  {
   "cell_type": "code",
   "execution_count": null,
   "id": "b9285ffe",
   "metadata": {},
   "outputs": [],
   "source": [
    "a = [['Ram',34,'Kathmandu'],\n",
    "    ['Shyam',45,'Lalitpur'],\n",
    "    ['Hari',67,'Bhaktapur']]\n",
    "a[0:2] = ['Ramaa',70,'Jhapa'],['Shyamaa',67,'Chitwan']\n",
    "a"
   ]
  },
  {
   "cell_type": "code",
   "execution_count": null,
   "id": "aa8dba21",
   "metadata": {},
   "outputs": [],
   "source": [
    "a = [['Ram',34,'Kathmandu'],\n",
    "    ['Shyam',45,'Lalitpur'],\n",
    "    ['Hari',67,'Bhaktapur']]\n",
    "a[0][0] = 'Rama' \n",
    "a"
   ]
  },
  {
   "cell_type": "code",
   "execution_count": null,
   "id": "05893250",
   "metadata": {},
   "outputs": [],
   "source": [
    "a = [['Ram',34,'Kathmandu'],\n",
    "    ['Shyam',45,'Lalitpur'],\n",
    "    ['Hari',67,'Bhaktapur']]\n",
    "for i in a:\n",
    "    if i[1]>50:\n",
    "        print(i)"
   ]
  },
  {
   "cell_type": "code",
   "execution_count": null,
   "id": "3013acac",
   "metadata": {},
   "outputs": [],
   "source": [
    "# WAP to create a matrix(list inside list) by taking row and col value by users &\n",
    "# WAP to create a billing system with CRUD features\n"
   ]
  },
  {
   "cell_type": "code",
   "execution_count": null,
   "id": "8e74a8fa",
   "metadata": {},
   "outputs": [
    {
     "name": "stdout",
     "output_type": "stream",
     "text": [
      "Type 'YES' to create new bill.yes\n"
     ]
    }
   ],
   "source": [
    "a = str()\n",
    "x = input(\"Type 'YES' to create new bill.\")\n",
    "npd = int(input(\"Enter No of Items = \"))\n",
    "i = 0\n",
    "at = 0\n",
    "pd = 0\n",
    "\n",
    "while x=='yes':\n",
    "    while i<npd:\n",
    "        pd = input(\"Enter product name = \")\n",
    "        p = int(input(\"Enter price = \"))\n",
    "        q = int(input(\"Enter quantity = \"))\n",
    "        t = p*q\n",
    "        at = at+t\n",
    "        a = a+f\"{pd   }            {q}        {p}      {t}\\n\"\n",
    "        i = i+1\n",
    "    \n",
    "    print(\"\")   \n",
    "    print(\"     Bhaktapur Mart\")\n",
    "    print(\"\")\n",
    "    print(\"Product Name   \"+\"Quantity   \"+\"Price   \"+ \"Total\")\n",
    "    print(a)\n",
    "    print(\"    Your total amount is       Rs.\",at)\n",
    "    x = input(\"Type 'YES' to create new bill.\")"
   ]
  },
  {
   "cell_type": "code",
   "execution_count": null,
   "id": "54b39d7c",
   "metadata": {},
   "outputs": [],
   "source": []
  },
  {
   "cell_type": "markdown",
   "id": "62accc5b",
   "metadata": {},
   "source": [
    "# "
   ]
  },
  {
   "cell_type": "code",
   "execution_count": null,
   "id": "3c4f3a09",
   "metadata": {},
   "outputs": [],
   "source": []
  },
  {
   "cell_type": "code",
   "execution_count": null,
   "id": "19c9ebe4",
   "metadata": {},
   "outputs": [],
   "source": []
  },
  {
   "cell_type": "markdown",
   "id": "acab5ec7",
   "metadata": {},
   "source": [
    "# "
   ]
  },
  {
   "cell_type": "code",
   "execution_count": null,
   "id": "9d589e63",
   "metadata": {},
   "outputs": [],
   "source": [
    "l = []\n",
    "n = int(input(\"Enterr n = \"))\n",
    "for i in range(n):\n",
    "    x = input(\"Enter x = \")\n",
    "    l = l+[x]\n",
    "print(l)\n",
    "\n",
    "    print(\"Billing has 'STOP'\")\n",
    "\n"
   ]
  }
 ],
 "metadata": {
  "kernelspec": {
   "display_name": "Python 3 (ipykernel)",
   "language": "python",
   "name": "python3"
  },
  "language_info": {
   "codemirror_mode": {
    "name": "ipython",
    "version": 3
   },
   "file_extension": ".py",
   "mimetype": "text/x-python",
   "name": "python",
   "nbconvert_exporter": "python",
   "pygments_lexer": "ipython3",
   "version": "3.9.13"
  }
 },
 "nbformat": 4,
 "nbformat_minor": 5
}
