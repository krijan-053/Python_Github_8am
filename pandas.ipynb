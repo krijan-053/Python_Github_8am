{
 "cells": [
  {
   "cell_type": "code",
   "execution_count": 4,
   "id": "55e1d97a",
   "metadata": {},
   "outputs": [],
   "source": [
    "try:\n",
    "    file = open('info.csv','x')\n",
    "    file.close()\n",
    "except:\n",
    "    print('The file is already there')\n"
   ]
  },
  {
   "cell_type": "code",
   "execution_count": 6,
   "id": "fe9e38d7",
   "metadata": {},
   "outputs": [
    {
     "ename": "NameError",
     "evalue": "name 'pd' is not defined",
     "output_type": "error",
     "traceback": [
      "\u001b[0;31m---------------------------------------------------------------------------\u001b[0m",
      "\u001b[0;31mNameError\u001b[0m                                 Traceback (most recent call last)",
      "\u001b[0;32m/var/folders/dl/hl83x6dn27scsgpl8yqkmgyh0000gp/T/ipykernel_660/1075394419.py\u001b[0m in \u001b[0;36m<module>\u001b[0;34m\u001b[0m\n\u001b[1;32m      1\u001b[0m \u001b[0;32mimport\u001b[0m \u001b[0mpandas\u001b[0m \u001b[0;32mas\u001b[0m \u001b[0mdf\u001b[0m\u001b[0;34m\u001b[0m\u001b[0;34m\u001b[0m\u001b[0m\n\u001b[0;32m----> 2\u001b[0;31m \u001b[0mdf\u001b[0m \u001b[0;34m=\u001b[0m \u001b[0mpd\u001b[0m\u001b[0;34m.\u001b[0m\u001b[0mread_csv\u001b[0m\u001b[0;34m(\u001b[0m\u001b[0;34m'info.csv'\u001b[0m\u001b[0;34m)\u001b[0m\u001b[0;34m\u001b[0m\u001b[0;34m\u001b[0m\u001b[0m\n\u001b[0m\u001b[1;32m      3\u001b[0m \u001b[0mdf\u001b[0m\u001b[0;34m\u001b[0m\u001b[0;34m\u001b[0m\u001b[0m\n",
      "\u001b[0;31mNameError\u001b[0m: name 'pd' is not defined"
     ]
    }
   ],
   "source": [
    "import pandas as df\n",
    "df = pd.read_csv('info.csv')\n",
    "df"
   ]
  },
  {
   "cell_type": "code",
   "execution_count": null,
   "id": "adafb14e",
   "metadata": {},
   "outputs": [],
   "source": [
    "import pandas as pd\n",
    "df = pd.read_csv('info.csv')\n",
    "data = df[(df['name'] == 'ram') & (df['phone'] == 9898098787)]\n",
    "data.to_csv(\"info1.csv\")"
   ]
  },
  {
   "cell_type": "code",
   "execution_count": null,
   "id": "7de5ad50",
   "metadata": {},
   "outputs": [],
   "source": []
  },
  {
   "cell_type": "code",
   "execution_count": 7,
   "id": "7a003497",
   "metadata": {},
   "outputs": [
    {
     "name": "stdout",
     "output_type": "stream",
     "text": [
      "Enter n = 2\n",
      "Enter name = Ram\n",
      "Enter age = 25\n",
      "Enter add = kathmandu\n",
      "Enter name = Shyam\n",
      "Enter age = 30\n",
      "Enter add = lalitpur\n",
      "{'name': ['Ram', 'Shyam'], 'age': [25, 30], 'add': ['kathmandu', 'lalitpur']}\n"
     ]
    },
    {
     "data": {
      "text/html": [
       "<div>\n",
       "<style scoped>\n",
       "    .dataframe tbody tr th:only-of-type {\n",
       "        vertical-align: middle;\n",
       "    }\n",
       "\n",
       "    .dataframe tbody tr th {\n",
       "        vertical-align: top;\n",
       "    }\n",
       "\n",
       "    .dataframe thead th {\n",
       "        text-align: right;\n",
       "    }\n",
       "</style>\n",
       "<table border=\"1\" class=\"dataframe\">\n",
       "  <thead>\n",
       "    <tr style=\"text-align: right;\">\n",
       "      <th></th>\n",
       "      <th>name</th>\n",
       "      <th>age</th>\n",
       "      <th>add</th>\n",
       "    </tr>\n",
       "  </thead>\n",
       "  <tbody>\n",
       "    <tr>\n",
       "      <th>0</th>\n",
       "      <td>Ram</td>\n",
       "      <td>25</td>\n",
       "      <td>kathmandu</td>\n",
       "    </tr>\n",
       "    <tr>\n",
       "      <th>1</th>\n",
       "      <td>Shyam</td>\n",
       "      <td>30</td>\n",
       "      <td>lalitpur</td>\n",
       "    </tr>\n",
       "  </tbody>\n",
       "</table>\n",
       "</div>"
      ],
      "text/plain": [
       "    name  age        add\n",
       "0    Ram   25  kathmandu\n",
       "1  Shyam   30   lalitpur"
      ]
     },
     "execution_count": 7,
     "metadata": {},
     "output_type": "execute_result"
    }
   ],
   "source": [
    "\n",
    "import pandas as pd\n",
    "data = {'name':[],'age':[],'add':[]}\n",
    "n = int(input('Enter n = '))\n",
    "for i in range(n):\n",
    "    name = input('Enter name = ')\n",
    "    age = int(input('Enter age = '))\n",
    "    add = (input('Enter add = '))\n",
    "    data['name'].append(name)\n",
    "    data['age'].append(age)\n",
    "    data['add'].append(add)\n",
    "print(data)\n",
    "\n",
    "df = (data)\n",
    "df = pd.DataFrame(data)\n",
    "df"
   ]
  },
  {
   "cell_type": "code",
   "execution_count": 8,
   "id": "8d068238",
   "metadata": {},
   "outputs": [],
   "source": [
    "df.to_csv('info3.csv')"
   ]
  },
  {
   "cell_type": "code",
   "execution_count": 9,
   "id": "1e6aa10c",
   "metadata": {},
   "outputs": [],
   "source": [
    "##############"
   ]
  },
  {
   "cell_type": "code",
   "execution_count": 13,
   "id": "ea494f3a",
   "metadata": {},
   "outputs": [
    {
     "name": "stdout",
     "output_type": "stream",
     "text": [
      "Enter n = 2\n",
      "Enter name = Ram\n",
      "Enter age = 12\n",
      "Enter add = ktm\n",
      "Enter name = Shyam\n",
      "Enter age = 34\n",
      "Enter add = Bkt\n",
      "[['Ram', 12, 'ktm'], ['Shyam', 34, 'Bkt']]\n"
     ]
    }
   ],
   "source": [
    "import csv\n",
    "info = []\n",
    "n = int(input('Enter n = '))\n",
    "for i in range(n):\n",
    "    name = input('Enter name = ')\n",
    "    age = int(input('Enter age = '))\n",
    "    add = (input('Enter add = '))\n",
    "    info.append([name,age,add])\n",
    "\n",
    "print(info)\n",
    "\n",
    "# with open('info4.csv')as file:\n",
    "#     x = csv.writer(file)\n",
    "#     x.writerows(info)\n",
    "    \n",
    "file = open('info4.csv','w')\n",
    "x = csv.writer(file)\n",
    "x.writerow(['Name','Age','Address'])    # writerow = for only one row\n",
    "x.writerows(info)                       #writerows = for multiple rows\n",
    "file.close()\n",
    "    "
   ]
  },
  {
   "cell_type": "code",
   "execution_count": 15,
   "id": "02d80f8c",
   "metadata": {},
   "outputs": [
    {
     "name": "stdout",
     "output_type": "stream",
     "text": [
      "{'Name': 'Ram', 'Age': '12', 'Address': 'ktm'}\n",
      "{'Name': 'Shyam', 'Age': '34', 'Address': 'Bkt'}\n"
     ]
    }
   ],
   "source": [
    "import csv\n",
    "with open('info4.csv') as csvfile:\n",
    "    reader = csv.DictReader(csvfile)\n",
    "    \n",
    "    for row in reader:\n",
    "        print(row)"
   ]
  },
  {
   "cell_type": "code",
   "execution_count": 19,
   "id": "c43d708d",
   "metadata": {},
   "outputs": [
    {
     "name": "stdout",
     "output_type": "stream",
     "text": [
      "{'Name': 'Ram', 'Age': '12', 'Address': 'ktm'}\n",
      "{'Name': 'Shyam', 'Age': '34', 'Address': 'Bkt'}\n"
     ]
    },
    {
     "ename": "IndexError",
     "evalue": "list index out of range",
     "output_type": "error",
     "traceback": [
      "\u001b[0;31m---------------------------------------------------------------------------\u001b[0m",
      "\u001b[0;31mIndexError\u001b[0m                                Traceback (most recent call last)",
      "\u001b[0;32m/var/folders/dl/hl83x6dn27scsgpl8yqkmgyh0000gp/T/ipykernel_660/2386110471.py\u001b[0m in \u001b[0;36m<module>\u001b[0;34m\u001b[0m\n\u001b[1;32m      6\u001b[0m     \u001b[0;32mfor\u001b[0m \u001b[0mrow\u001b[0m \u001b[0;32min\u001b[0m \u001b[0mreader\u001b[0m\u001b[0;34m:\u001b[0m\u001b[0;34m\u001b[0m\u001b[0;34m\u001b[0m\u001b[0m\n\u001b[1;32m      7\u001b[0m         \u001b[0mprint\u001b[0m\u001b[0;34m(\u001b[0m\u001b[0mrow\u001b[0m\u001b[0;34m)\u001b[0m\u001b[0;34m\u001b[0m\u001b[0;34m\u001b[0m\u001b[0m\n\u001b[0;32m----> 8\u001b[0;31m \u001b[0mdata\u001b[0m\u001b[0;34m[\u001b[0m\u001b[0;36m0\u001b[0m\u001b[0;34m]\u001b[0m\u001b[0;34m\u001b[0m\u001b[0;34m\u001b[0m\u001b[0m\n\u001b[0m",
      "\u001b[0;31mIndexError\u001b[0m: list index out of range"
     ]
    }
   ],
   "source": [
    "import csv\n",
    "data = []\n",
    "with open('info4.csv') as csvfile:\n",
    "    reader = csv.DictReader(csvfile)\n",
    "    \n",
    "    for row in reader:\n",
    "        print(row)\n",
    "data[0]"
   ]
  },
  {
   "cell_type": "code",
   "execution_count": null,
   "id": "91293027",
   "metadata": {},
   "outputs": [],
   "source": []
  }
 ],
 "metadata": {
  "kernelspec": {
   "display_name": "Python 3 (ipykernel)",
   "language": "python",
   "name": "python3"
  },
  "language_info": {
   "codemirror_mode": {
    "name": "ipython",
    "version": 3
   },
   "file_extension": ".py",
   "mimetype": "text/x-python",
   "name": "python",
   "nbconvert_exporter": "python",
   "pygments_lexer": "ipython3",
   "version": "3.9.13"
  }
 },
 "nbformat": 4,
 "nbformat_minor": 5
}
