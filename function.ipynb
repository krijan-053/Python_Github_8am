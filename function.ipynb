{
 "cells": [
  {
   "cell_type": "code",
   "execution_count": 1,
   "id": "d6cc5bd8",
   "metadata": {},
   "outputs": [],
   "source": [
    "# pre defined\n",
    "# user defined\n"
   ]
  },
  {
   "cell_type": "code",
   "execution_count": 4,
   "id": "8ad4d274",
   "metadata": {},
   "outputs": [],
   "source": [
    "# pre defined\n",
    "#  int() float() str() print() input()\n",
    "\n",
    "# user defined\n",
    "# def <function_name>():\n",
    "#     <operation>\n",
    "    \n",
    "# <function_name>"
   ]
  },
  {
   "cell_type": "code",
   "execution_count": null,
   "id": "9f4a2ce8",
   "metadata": {},
   "outputs": [],
   "source": []
  },
  {
   "cell_type": "code",
   "execution_count": 3,
   "id": "944ea172",
   "metadata": {},
   "outputs": [
    {
     "name": "stdout",
     "output_type": "stream",
     "text": [
      "Hello World\n"
     ]
    }
   ],
   "source": [
    "def hello():\n",
    "    print(\"Hello World\")\n",
    "hello()"
   ]
  },
  {
   "cell_type": "code",
   "execution_count": 5,
   "id": "d104a789",
   "metadata": {},
   "outputs": [
    {
     "name": "stdout",
     "output_type": "stream",
     "text": [
      "Enter l = 10\n",
      "Enter b = 3\n",
      "30\n"
     ]
    }
   ],
   "source": [
    "def area():\n",
    "    l = int(input(\"Enter l = \"))  #local variable\n",
    "    b = int(input(\"Enter b = \"))  #local veriable\n",
    "    a = l*b\n",
    "    print(a)\n",
    "area()"
   ]
  },
  {
   "cell_type": "code",
   "execution_count": 6,
   "id": "6cb99589",
   "metadata": {},
   "outputs": [
    {
     "name": "stdout",
     "output_type": "stream",
     "text": [
      "Enter l = 10\n",
      "Enter b = 3\n",
      "30\n"
     ]
    }
   ],
   "source": [
    "\n",
    "l = int(input(\"Enter l = \"))  #global variable\n",
    "b = int(input(\"Enter b = \"))  #global veriable\n",
    "def area():\n",
    "    a = l*b\n",
    "    print(a)\n",
    "area()"
   ]
  },
  {
   "cell_type": "code",
   "execution_count": 7,
   "id": "7cc2cb4a",
   "metadata": {},
   "outputs": [],
   "source": [
    "# function without argument and no return type\n",
    "# function with argument and no return type\n",
    "# function without argument and return type\n",
    "# function with argument and return type"
   ]
  },
  {
   "cell_type": "code",
   "execution_count": 10,
   "id": "abd8a723",
   "metadata": {},
   "outputs": [
    {
     "name": "stdout",
     "output_type": "stream",
     "text": [
      "Enter l = 10\n",
      "Enter b = 20\n",
      "200\n"
     ]
    }
   ],
   "source": [
    "# function without argument and no return type\n",
    "\n",
    "l = int(input(\"Enter l = \"))  #global variable\n",
    "b = int(input(\"Enter b = \"))  #global veriable\n",
    "\n",
    "def area(x,y):    #parameter\n",
    "    a = x*y\n",
    "    print(a)\n",
    "    \n",
    "area(l,b)   #argument"
   ]
  },
  {
   "cell_type": "code",
   "execution_count": 9,
   "id": "b2d356af",
   "metadata": {},
   "outputs": [
    {
     "name": "stdout",
     "output_type": "stream",
     "text": [
      "Enter l = 12\n",
      "Enter b = 2\n",
      "24\n"
     ]
    }
   ],
   "source": [
    "# function without argument and no return type\n",
    "\n",
    "\n",
    "def area(x,y):    #parameter\n",
    "    a = x*y\n",
    "    print(a)\n",
    "\n",
    "l = int(input(\"Enter l = \"))  #global variable\n",
    "b = int(input(\"Enter b = \"))  #global veriable\n",
    "    \n",
    "area(l,b)   #argument"
   ]
  },
  {
   "cell_type": "code",
   "execution_count": null,
   "id": "4ef76e46",
   "metadata": {},
   "outputs": [],
   "source": [
    "# function without argument and no return type\n",
    "\n",
    "\n",
    "def area(x,y):    #parameter\n",
    "    a = x*y\n",
    "    print(a)\n",
    "    \n",
    "def volume(x,y,z):    #parameter\n",
    "    v = x*y*z\n",
    "    print(v)\n",
    "\n",
    "\n",
    "l = int(input(\"Enter l = \"))  #global variable\n",
    "b = int(input(\"Enter b = \"))  #global veriable\n",
    "h = int(input(\"Enter h = \"))  #global veriable\n",
    "    \n",
    "area(l,b,)      #argument\n",
    "volume(l,b,h)   #argument"
   ]
  },
  {
   "cell_type": "raw",
   "id": "1a2d8041",
   "metadata": {},
   "source": []
  },
  {
   "cell_type": "code",
   "execution_count": 11,
   "id": "7e93a58c",
   "metadata": {},
   "outputs": [],
   "source": [
    "# return type function"
   ]
  },
  {
   "cell_type": "code",
   "execution_count": 12,
   "id": "4a8549e6",
   "metadata": {},
   "outputs": [
    {
     "name": "stdout",
     "output_type": "stream",
     "text": [
      "Hello World\n"
     ]
    }
   ],
   "source": [
    "# function without argument and return type\n",
    "\n",
    "def hello():\n",
    "    return\"Hello World\"\n",
    "\n",
    "print(hello())"
   ]
  },
  {
   "cell_type": "code",
   "execution_count": 15,
   "id": "38e97fbc",
   "metadata": {},
   "outputs": [
    {
     "name": "stdout",
     "output_type": "stream",
     "text": [
      "Area =  20\n",
      "The volume =  40\n"
     ]
    }
   ],
   "source": [
    "# function without argument and return type\n",
    "\n",
    "def area():\n",
    "    l = 10\n",
    "    b = 2\n",
    "    a = l*b\n",
    "    return a\n",
    "\n",
    "x = area()\n",
    "h = 2\n",
    "print(\"Area = \",x)\n",
    "print(\"The volume = \",x*h)"
   ]
  },
  {
   "cell_type": "code",
   "execution_count": 16,
   "id": "d544daa2",
   "metadata": {},
   "outputs": [
    {
     "name": "stdout",
     "output_type": "stream",
     "text": [
      "Enter l = 10\n",
      "Enter b = 3\n",
      "Enter h = 2\n",
      "Area =  30\n",
      "The volume =  60\n"
     ]
    }
   ],
   "source": [
    "# function with argument and return type\n",
    "\n",
    "def area(l,b):\n",
    "    a = l*b\n",
    "    return a\n",
    "\n",
    "l = int(input(\"Enter l = \"))  \n",
    "b = int(input(\"Enter b = \"))   \n",
    "h = int(input(\"Enter h = \"))   \n",
    "\n",
    "x = area(l,b)\n",
    "\n",
    "print(\"Area = \",x)\n",
    "print(\"The volume = \",x*h)"
   ]
  },
  {
   "cell_type": "code",
   "execution_count": 19,
   "id": "e0cd50f3",
   "metadata": {},
   "outputs": [
    {
     "name": "stdout",
     "output_type": "stream",
     "text": [
      "Enter l = 100\n",
      "Enter b = 23\n",
      "Enter h = 45\n",
      "The area =  2300\n",
      "The volume =  103500\n"
     ]
    }
   ],
   "source": [
    "# function with argument and return type\n",
    "\n",
    "def cal(l,b,h):\n",
    "    a = l*b\n",
    "    v = a*h\n",
    "    return a,v\n",
    "\n",
    "l = int(input(\"Enter l = \"))  \n",
    "b = int(input(\"Enter b = \"))   \n",
    "h = int(input(\"Enter h = \"))   \n",
    "\n",
    "x = cal(l,b,h)\n",
    "\n",
    "area,volume=x\n",
    "print(\"The area = \",area)\n",
    "print(\"The volume = \",volume)"
   ]
  },
  {
   "cell_type": "code",
   "execution_count": 23,
   "id": "cb95aa02",
   "metadata": {},
   "outputs": [
    {
     "name": "stdout",
     "output_type": "stream",
     "text": [
      "1 C\n",
      "3 C++\n",
      "4 Java\n",
      "0 Python\n"
     ]
    }
   ],
   "source": [
    "def language(l,lan = \"Python\"):\n",
    "    print(l,lan)\n",
    "    \n",
    "language(1,\"C\")\n",
    "language(3,\"C++\")\n",
    "language(4,\"Java\")\n",
    "language(0)\n",
    "\n"
   ]
  },
  {
   "cell_type": "code",
   "execution_count": 25,
   "id": "007f281f",
   "metadata": {},
   "outputs": [
    {
     "ename": "SyntaxError",
     "evalue": "invalid syntax (3631375633.py, line 9)",
     "output_type": "error",
     "traceback": [
      "\u001b[0;36m  File \u001b[0;32m\"/var/folders/7h/hd80h3fs00s212hsb1pjl57r0000gn/T/ipykernel_2244/3631375633.py\"\u001b[0;36m, line \u001b[0;32m9\u001b[0m\n\u001b[0;31m    defcal():\u001b[0m\n\u001b[0m             ^\u001b[0m\n\u001b[0;31mSyntaxError\u001b[0m\u001b[0;31m:\u001b[0m invalid syntax\n"
     ]
    }
   ],
   "source": [
    "def add(a,b):\n",
    "    return a+b\n",
    "def sub(a,b):\n",
    "    return a-b\n",
    "def mul(a,b):\n",
    "    return a*b\n",
    "def div(a,b):\n",
    "    return a/b\n",
    "defcal():\n",
    "    \n",
    "    a = int(input(\"Enter value a = \"))\n",
    "    b = int(input(\"Enter value b = \"))\n",
    "    o = input(\"Enter + - * / \")\n",
    "    if o==\"+\":\n",
    "      print(add(a,b))\n",
    "    elif o==\"-\":\n",
    "      print(sub(a,b))\n",
    "    elif o==\"*\":\n",
    "      print(mul(a,b))\n",
    "    elif o==\"/\" and b!=0:\n",
    "      print(div(a,b))\n",
    "    else:\n",
    "      print(\"Invalid operator\")\n",
    "\n",
    "cal()"
   ]
  },
  {
   "cell_type": "code",
   "execution_count": null,
   "id": "81bcc776",
   "metadata": {},
   "outputs": [],
   "source": []
  }
 ],
 "metadata": {
  "kernelspec": {
   "display_name": "Python 3 (ipykernel)",
   "language": "python",
   "name": "python3"
  },
  "language_info": {
   "codemirror_mode": {
    "name": "ipython",
    "version": 3
   },
   "file_extension": ".py",
   "mimetype": "text/x-python",
   "name": "python",
   "nbconvert_exporter": "python",
   "pygments_lexer": "ipython3",
   "version": "3.9.13"
  }
 },
 "nbformat": 4,
 "nbformat_minor": 5
}
