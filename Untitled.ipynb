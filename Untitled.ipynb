{
 "cells": [
  {
   "cell_type": "code",
   "execution_count": null,
   "id": "5532be01",
   "metadata": {},
   "outputs": [],
   "source": []
  },
  {
   "cell_type": "code",
   "execution_count": 4,
   "id": "634863e9",
   "metadata": {},
   "outputs": [],
   "source": [
    "#x = data.split('\\n')[0]"
   ]
  },
  {
   "cell_type": "code",
   "execution_count": 2,
   "id": "b7f78b48",
   "metadata": {},
   "outputs": [],
   "source": [
    "file = open('data.txt','w')\n",
    "file.write('Hello World')\n",
    "file.close()"
   ]
  },
  {
   "cell_type": "code",
   "execution_count": 3,
   "id": "3823e341",
   "metadata": {},
   "outputs": [
    {
     "name": "stdout",
     "output_type": "stream",
     "text": [
      "Enter c = 2\n",
      "Enter product name = asd\n",
      "Enter price = 12\n",
      "Enter quantity = 1\n",
      "Enter product name = asddfg\n",
      "Enter price = 1\n",
      "Enter quantity = 2\n",
      " Bhaktapur Mart\n",
      "Name = asd Price = Rs.12 Quantity = 1 12\n",
      "Name = asddfg Price = Rs.1 Quantity = 2 2\n",
      "\n",
      "All total =  14\n"
     ]
    }
   ],
   "source": [
    "s = str()\n",
    "i = 0\n",
    "all_total = 0\n",
    "c = int(input(\"Enter c = \"))\n",
    "while i<c:\n",
    "  name = input(\"Enter product name = \")\n",
    "  price = int(input(\"Enter price = \"))\n",
    "  quantity = int(input(\"Enter quantity = \"))\n",
    "  total = price * quantity\n",
    "  all_total = all_total + total\n",
    "  s = s +\"Name = \"+name+\" \"+\"Price = Rs.\"+str(price)+\" \"+\"Quantity = \"+str(quantity)+\" \"+str(total)+\"\\n\"\n",
    "  i = i+1\n",
    "\n",
    "print(\" Bhaktapur Mart\")\n",
    "print(s)\n",
    "print(\"All total = \",all_total)\n",
    "\n",
    "file = open('data.txt','w')\n",
    "file.write(s)\n",
    "file.close()"
   ]
  },
  {
   "cell_type": "code",
   "execution_count": 7,
   "id": "c33e749d",
   "metadata": {},
   "outputs": [
    {
     "name": "stdout",
     "output_type": "stream",
     "text": [
      "Enter c = 2\n",
      "Enter product name = apple\n",
      "Enter price = 12\n",
      "Enter quantity = 1\n",
      "Enter product name = Banana\n",
      "Enter price = 123\n",
      "Enter quantity = 12\n",
      "apple,12,1,12\n",
      "Banana,123,12,1476\n",
      "\n",
      "All total =  1488\n"
     ]
    }
   ],
   "source": [
    "import datetime\n",
    "x = datetime.datetime.now()\n",
    "\n",
    "date= x.strftime(\"%c\")\n",
    "\n",
    "s = str()\n",
    "i = 0\n",
    "all_total = 0\n",
    "c = int(input(\"Enter c = \"))\n",
    "file_name = str(date).replace(':','_')\n",
    "while i<c:\n",
    "  name = input(\"Enter product name = \")\n",
    "  price = int(input(\"Enter price = \"))\n",
    "  quantity = int(input(\"Enter quantity = \"))\n",
    "  total = price * quantity\n",
    "  all_total = all_total + total\n",
    "  s = s +f\"{name},{price},{quantity},{total}\\n\"\n",
    "  i = i+1\n",
    "\n",
    "print(s)\n",
    "print(\"All total = \",all_total)\n",
    "  \n",
    "file = open('''{file_name}.csv''','w') # 'w' write . file = open('''{file_name}.csv''','a') #'a' Append\n",
    "file.write('Name,Price,Quantity,Total\\n')\n",
    "file.write(s)\n",
    "file.close()"
   ]
  },
  {
   "cell_type": "code",
   "execution_count": 16,
   "id": "41bd0a50",
   "metadata": {},
   "outputs": [],
   "source": [
    "##############           1\n",
    "import datetime\n",
    "x = datetime.datetime.now()\n",
    "date = x.strftime(\"%x\")\n",
    "file_name = str(date).replace('/','_')\n",
    "file = open('''{file_name}.csv''','w') # 'w' write . file = open('''{file_name}.csv''','a') #'a' Append\n",
    "file.write('Name,Price,Quantity,Total\\n')\n",
    "file.close()"
   ]
  },
  {
   "cell_type": "code",
   "execution_count": 15,
   "id": "a0fdd191",
   "metadata": {},
   "outputs": [
    {
     "name": "stdout",
     "output_type": "stream",
     "text": [
      "Enter c = 2\n",
      "Enter product name = apple\n",
      "Enter price = 123\n",
      "Enter quantity = 12\n",
      "Enter product name = Banana\n",
      "Enter price = 12\n",
      "Enter quantity = 123\n",
      "apple,123,12,1476\n",
      "Banana,12,123,1476\n",
      "\n",
      "All total =  2952\n"
     ]
    }
   ],
   "source": [
    "#############           2\n",
    "file = open('''{file_name}.csv''','a')\n",
    "s = str()\n",
    "i = 0\n",
    "all_total = 0\n",
    "c = int(input(\"Enter c = \"))\n",
    "\n",
    "while i<c:\n",
    "  name = input(\"Enter product name = \")\n",
    "  price = int(input(\"Enter price = \"))\n",
    "  quantity = int(input(\"Enter quantity = \"))\n",
    "  total = price * quantity\n",
    "  all_total = all_total + total\n",
    "  s = s +f\"{name},{price},{quantity},{total}\\n\"\n",
    "  i = i+1\n",
    "\n",
    "print(s)\n",
    "print(\"All total = \",all_total)\n",
    "  \n",
    "\n",
    "file.write(s)\n",
    "file.close()"
   ]
  },
  {
   "cell_type": "code",
   "execution_count": 18,
   "id": "3b4d54aa",
   "metadata": {},
   "outputs": [
    {
     "data": {
      "text/html": [
       "<div>\n",
       "<style scoped>\n",
       "    .dataframe tbody tr th:only-of-type {\n",
       "        vertical-align: middle;\n",
       "    }\n",
       "\n",
       "    .dataframe tbody tr th {\n",
       "        vertical-align: top;\n",
       "    }\n",
       "\n",
       "    .dataframe thead th {\n",
       "        text-align: right;\n",
       "    }\n",
       "</style>\n",
       "<table border=\"1\" class=\"dataframe\">\n",
       "  <thead>\n",
       "    <tr style=\"text-align: right;\">\n",
       "      <th></th>\n",
       "      <th>Name</th>\n",
       "      <th>Price</th>\n",
       "      <th>Quantity</th>\n",
       "      <th>Total</th>\n",
       "    </tr>\n",
       "  </thead>\n",
       "  <tbody>\n",
       "  </tbody>\n",
       "</table>\n",
       "</div>"
      ],
      "text/plain": [
       "Empty DataFrame\n",
       "Columns: [Name, Price, Quantity, Total]\n",
       "Index: []"
      ]
     },
     "execution_count": 18,
     "metadata": {},
     "output_type": "execute_result"
    }
   ],
   "source": [
    "import pandas as pd\n",
    "df = pd.read_csv('{file_name}.csv')\n",
    "df\n"
   ]
  },
  {
   "cell_type": "code",
   "execution_count": null,
   "id": "7c7eb430",
   "metadata": {},
   "outputs": [],
   "source": []
  }
 ],
 "metadata": {
  "kernelspec": {
   "display_name": "Python 3 (ipykernel)",
   "language": "python",
   "name": "python3"
  },
  "language_info": {
   "codemirror_mode": {
    "name": "ipython",
    "version": 3
   },
   "file_extension": ".py",
   "mimetype": "text/x-python",
   "name": "python",
   "nbconvert_exporter": "python",
   "pygments_lexer": "ipython3",
   "version": "3.9.13"
  }
 },
 "nbformat": 4,
 "nbformat_minor": 5
}
