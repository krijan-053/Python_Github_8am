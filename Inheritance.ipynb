{
 "cells": [
  {
   "cell_type": "code",
   "execution_count": 5,
   "id": "1bb43d2b",
   "metadata": {},
   "outputs": [
    {
     "name": "stdout",
     "output_type": "stream",
     "text": [
      "Enter name = Ram\n",
      "Enter age = 12\n",
      "Enter add = ktm\n",
      "Hello World I am Ram. I am fromktm. I am 12 old.\n"
     ]
    }
   ],
   "source": [
    "class Data:\n",
    "    def __init__(self):\n",
    "        self.name = input(\"Enter name = \")\n",
    "        self.age = input(\"Enter age = \")\n",
    "        self.add = input(\"Enter add = \")\n",
    "        \n",
    "class Info(Data):\n",
    "    def info(self):\n",
    "        print(f\"Hello World I am {self.name}. I am from {self.add}. I am {self.age} old.\")\n",
    "        \n",
    "        \n",
    "obj = Info()\n",
    "obj.info()"
   ]
  },
  {
   "cell_type": "code",
   "execution_count": 6,
   "id": "5cb4ca11",
   "metadata": {},
   "outputs": [
    {
     "name": "stdout",
     "output_type": "stream",
     "text": [
      "Enter name = Shyam\n",
      "Enter age = 12\n",
      "Enter add = ktm\n",
      "Hello World I am Shyam. I am fromktm. I am 12 old.\n"
     ]
    }
   ],
   "source": [
    "class Data:\n",
    "    def __init__(self,name,age,add):\n",
    "        self.name = name\n",
    "        self.age = age\n",
    "        self.add = add\n",
    "        \n",
    "class Info(Data):\n",
    "    def info(self):\n",
    "        print(f\"Hello World I am {self.name}. I am from {self.add}. I am {self.age} old.\")\n",
    "\n",
    "        \n",
    "name = input(\"Enter name = \")\n",
    "age = input(\"Enter age = \")\n",
    "add = input(\"Enter add = \")\n",
    "        \n",
    "obj = Info(name,age,add)\n",
    "obj.info()"
   ]
  },
  {
   "cell_type": "code",
   "execution_count": 9,
   "id": "112037de",
   "metadata": {},
   "outputs": [
    {
     "name": "stdout",
     "output_type": "stream",
     "text": [
      "Enter name = Ram\n",
      "Enter age = 55\n",
      "Enter add = ktm\n",
      "Hello World I am Ram.\n",
      "I am fromktm. I am 55 old.\n"
     ]
    }
   ],
   "source": [
    "class Data:\n",
    "    def __init__(self,age,add):\n",
    "        self.age = age\n",
    "        self.add = add\n",
    "        \n",
    "    def data(self):\n",
    "        print(f\"I am from {self.add}. I am {self.age} old.\")\n",
    "    \n",
    "class Info(Data):\n",
    "    def __init__(self,name,age,add):\n",
    "        self.name = name\n",
    "        Data.__init__(self,age,add)\n",
    "    \n",
    "    def info(self):\n",
    "        print(f\"Hello World I am {self.name}.\")\n",
    "\n",
    "        \n",
    "name = input(\"Enter name = \")\n",
    "age = input(\"Enter age = \")\n",
    "add = input(\"Enter add = \")\n",
    "        \n",
    "obj = Info(name,age,add)\n",
    "obj.info()\n",
    "obj.data()"
   ]
  },
  {
   "cell_type": "code",
   "execution_count": 18,
   "id": "4bbab8c6",
   "metadata": {},
   "outputs": [
    {
     "name": "stdout",
     "output_type": "stream",
     "text": [
      "Enter name = Ram\n",
      "Enter age = 55\n",
      "Enter add = Kathmandu\n",
      "Hello World I am Ram.\n",
      "I am 55 old.\n",
      "I am from Kathmandu.\n",
      "Hello World I am Ram. I am from Kathmandu. I am 55 old.\n"
     ]
    }
   ],
   "source": [
    "class Address:\n",
    "    def __init__(self,add):\n",
    "        self.add = add\n",
    "    def address(self):\n",
    "        print(f\"I am from {self.add}.\")\n",
    "\n",
    "class Data(Address):\n",
    "    def __init__(self,age,add):\n",
    "        self.age = age\n",
    "        Address.__init__(self,add)\n",
    "        \n",
    "    def data(self):\n",
    "        print(f\"I am {self.age} old.\")\n",
    "    \n",
    "class Info(Data):\n",
    "    def __init__(self,name,age,add):\n",
    "        self.name = name\n",
    "        Data.__init__(self,age,add)\n",
    "    \n",
    "    def info(self):\n",
    "        print(f\"Hello World I am {self.name}.\")\n",
    "\n",
    "\n",
    "        \n",
    "name = input(\"Enter name = \")\n",
    "age = input(\"Enter age = \")\n",
    "add = input(\"Enter add = \")\n",
    "        \n",
    "obj = Info(name,age,add)\n",
    "obj.info()\n",
    "obj.data()\n",
    "obj.address()\n",
    "print(f\"Hello World I am {obj.name}. I am from {obj.add}. I am {obj.age} old.\")\n"
   ]
  },
  {
   "cell_type": "code",
   "execution_count": null,
   "id": "cff873e7",
   "metadata": {},
   "outputs": [],
   "source": [
    "class Address:\n",
    "    def __init__(self,add):\n",
    "        self.add = add\n",
    "    def address(self):\n",
    "        print(f\"I am from {self.add}.\")\n",
    "\n",
    "class Age(Address):\n",
    "    def __init__(self,age,add):\n",
    "        self.age = age\n",
    "        \n",
    "    def age(self):\n",
    "        print(f\"I am {self.age} old.\")\n",
    "    \n",
    "class Info(Age,Address):\n",
    "    def __init__(self,name,age,add):\n",
    "        self.name = name\n",
    "        Age.__init__(self,age,)\n",
    "        Address.__init__(self,add)\n",
    "    \n",
    "    def info(self):\n",
    "        print(f\"Hello World I am {self.name}.\")\n",
    "\n",
    "\n",
    "        \n",
    "name = input(\"Enter name = \")\n",
    "age = input(\"Enter age = \")\n",
    "add = input(\"Enter add = \")\n",
    "        \n",
    "obj = Info(name,age,add)\n",
    "obj.info()\n",
    "obj.data()\n",
    "obj.address()\n",
    "print(f\"Hello World I am {obj.name}. I am from {obj.add}. I am {obj.age} old.\")\n"
   ]
  },
  {
   "cell_type": "code",
   "execution_count": 26,
   "id": "b3229997",
   "metadata": {},
   "outputs": [
    {
     "name": "stdout",
     "output_type": "stream",
     "text": [
      "Enter Name = Ram\n",
      "Enter age = 45\n",
      "Enter Address = ktm\n",
      "Hello World I am Ram. I am from ktm. I am 45 old.\n",
      "Hello World I am Ram. I am from ktm. I am 45 old.\n"
     ]
    }
   ],
   "source": [
    "class Address:\n",
    "    def __init__(self,add):\n",
    "        self.add = input(\"Enter Address = \")\n",
    "    def address(self):\n",
    "        print(f\"I am from {self.add}.\")\n",
    "\n",
    "class Age:\n",
    "    def __init__(self,age):\n",
    "        self.age = input(\"Enter age = \")\n",
    "        \n",
    "    def age(self):\n",
    "        print(f\"I am {self.age} old.\")\n",
    "    \n",
    "class Info(Age,Address):\n",
    "    def __init__(self,name,age,add):\n",
    "        self.name = input(\"Enter Name = \")\n",
    "        Age.__init__(self,age)\n",
    "        Address.__init__(self,add)\n",
    "\n",
    "    def info(self):\n",
    "        print(f\"Hello World I am {self.name}. I am from {self.add}. I am {self.age} old.\")\n",
    "        \n",
    "        \n",
    "        \n",
    "obj = Info(name,age,add)\n",
    "obj.info()\n",
    "print(f\"Hello World I am {obj.name}. I am from {obj.add}. I am {obj.age} old.\")\n"
   ]
  },
  {
   "cell_type": "code",
   "execution_count": null,
   "id": "65c59624",
   "metadata": {},
   "outputs": [],
   "source": []
  }
 ],
 "metadata": {
  "kernelspec": {
   "display_name": "Python 3 (ipykernel)",
   "language": "python",
   "name": "python3"
  },
  "language_info": {
   "codemirror_mode": {
    "name": "ipython",
    "version": 3
   },
   "file_extension": ".py",
   "mimetype": "text/x-python",
   "name": "python",
   "nbconvert_exporter": "python",
   "pygments_lexer": "ipython3",
   "version": "3.9.13"
  }
 },
 "nbformat": 4,
 "nbformat_minor": 5
}
